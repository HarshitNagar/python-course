{
 "cells": [
  {
   "cell_type": "markdown",
   "source": [
    "# Functions\n",
    "* Functions are the building blocks of a Python program.\n",
    "  * We have seen some inbuilt python functions such as print(), len()\n",
    "  * We can also create our own functions called as user defined function to perform our custom tasks\n",
    "    * Functions break code into smaller chunks\n",
    "    * Prevent repeating code for tasks that needs to be done multiple times\n",
    "  * z = f(x, y)\n",
    "    * In mathematics, this is how we denote a function. It performs an operation 'f' on inputs 'x' and 'y' to give the output 'z'.\n",
    "  * In python we define functions as follows:\n",
    "def <function_name>([<parameters>]):\n",
    "  <statement(s)>\n",
    "    * def: tells python that a functions is being defined\n",
    "    * <function_name>\n",
    "    * <parameters>: optional comma separated list of parameters\n",
    "    * ':': Denotes end of python function header\n",
    "    * <statements>: what all is to be executed by this function"
   ],
   "metadata": {
    "collapsed": false
   }
  },
  {
   "cell_type": "markdown",
   "source": [
    "# While loop\n",
    "## Syntax:\n",
    "```\n",
    "while <expression>:\n",
    "  <statements>\n",
    "```\n",
    "In Python, a while loop is used to execute a block of statements repeatedly until a given condition is satisfied. When the condition becomes false, the line immediately after the loop in the program is executed."
   ],
   "metadata": {
    "collapsed": false
   }
  },
  {
   "cell_type": "code",
   "execution_count": 1,
   "outputs": [
    {
     "name": "stdout",
     "output_type": "stream",
     "text": [
      "1\n",
      "2\n",
      "3\n",
      "4\n"
     ]
    }
   ],
   "source": [
    "i = 1\n",
    "while i<5:\n",
    "  print(i)\n",
    "  i+=1"
   ],
   "metadata": {
    "collapsed": false,
    "ExecuteTime": {
     "end_time": "2024-07-26T13:46:09.882905Z",
     "start_time": "2024-07-26T13:46:09.878977Z"
    }
   }
  },
  {
   "cell_type": "code",
   "execution_count": 2,
   "outputs": [
    {
     "name": "stdout",
     "output_type": "stream",
     "text": [
      "1\n",
      "2\n",
      "3\n",
      "4\n",
      "5\n"
     ]
    }
   ],
   "source": [
    "i = 1\n",
    "while i<=5:\n",
    "    print(i)\n",
    "    i+=1"
   ],
   "metadata": {
    "collapsed": false,
    "ExecuteTime": {
     "end_time": "2024-07-26T13:46:30.181638Z",
     "start_time": "2024-07-26T13:46:30.176024Z"
    }
   }
  },
  {
   "cell_type": "code",
   "execution_count": null,
   "outputs": [],
   "source": [
    "i = 1\n",
    "while i<=5:\n",
    "  print(i)\n",
    "  i+=1"
   ],
   "metadata": {
    "collapsed": false
   }
  }
 ],
 "metadata": {
  "kernelspec": {
   "display_name": "Python 3",
   "language": "python",
   "name": "python3"
  },
  "language_info": {
   "codemirror_mode": {
    "name": "ipython",
    "version": 2
   },
   "file_extension": ".py",
   "mimetype": "text/x-python",
   "name": "python",
   "nbconvert_exporter": "python",
   "pygments_lexer": "ipython2",
   "version": "2.7.6"
  }
 },
 "nbformat": 4,
 "nbformat_minor": 0
}
