{
 "cells": [
  {
   "cell_type": "markdown",
   "source": [
    "# Functions\n",
    "* Functions are the building blocks of a Python program.\n",
    "  * We have seen some inbuilt python functions such as print(), len()\n",
    "  * We can also create our own functions called as user defined function to perform our custom tasks\n",
    "    * Functions break code into smaller chunks\n",
    "    * Prevent repeating code for tasks that needs to be done multiple times\n",
    "  * z = f(x, y)\n",
    "    * In mathematics, this is how we denote a function. It performs an operation 'f' on inputs 'x' and 'y' to give the output 'z'.\n",
    "  * In python we define functions as follows:\n",
    "def <function_name>([<parameters>]):\n",
    "  <statement(s)>\n",
    "    * def: tells python that a functions is being defined\n",
    "    * <function_name>\n",
    "    * <parameters>: optional comma separated list of parameters\n",
    "    * ':': Denotes end of python function header\n",
    "    * <statements>: what all is to be executed by this function"
   ],
   "metadata": {
    "collapsed": false
   }
  },
  {
   "cell_type": "code",
   "execution_count": null,
   "outputs": [],
   "source": [],
   "metadata": {
    "collapsed": false,
    "ExecuteTime": {
     "end_time": "2024-07-14T12:33:48.876038Z",
     "start_time": "2024-07-14T12:33:48.853344Z"
    }
   }
  },
  {
   "cell_type": "code",
   "execution_count": null,
   "outputs": [],
   "source": [],
   "metadata": {
    "collapsed": false
   }
  }
 ],
 "metadata": {
  "kernelspec": {
   "display_name": "Python 3",
   "language": "python",
   "name": "python3"
  },
  "language_info": {
   "codemirror_mode": {
    "name": "ipython",
    "version": 2
   },
   "file_extension": ".py",
   "mimetype": "text/x-python",
   "name": "python",
   "nbconvert_exporter": "python",
   "pygments_lexer": "ipython2",
   "version": "2.7.6"
  }
 },
 "nbformat": 4,
 "nbformat_minor": 0
}
