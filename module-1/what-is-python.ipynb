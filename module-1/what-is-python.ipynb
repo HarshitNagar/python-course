{
 "cells": [
  {
   "cell_type": "markdown",
   "source": [
    "High level programming language\n",
    "- easier to understand\n",
    "- written similar to abbreviated english\n",
    "- need to be converted to machine code using an interpreter, compiler, assembler"
   ],
   "metadata": {
    "collapsed": false
   }
  },
  {
   "cell_type": "markdown",
   "source": [
    "Python is a\n",
    "- high level programming language\n",
    "- scripting language\n",
    "- uses an interpreter to convert it to machine code\n",
    "- Current python version is python 3\n",
    "- Python 2 and 3 are not quite compatible\n",
    "- Python 2 ended its life on Jan 1, 2020"
   ],
   "metadata": {
    "collapsed": false
   }
  },
  {
   "cell_type": "markdown",
   "source": [
    "Interpreter vs compiler\n",
    "- Compiler takes all the high level code and converts it to machine language at once while an interpreter works line by line\n",
    "- Interpreted languages are easier to debug\n",
    "- Interpreted code runs slower as compared to compiled code\n",
    "- Interpreter directly runs the interpreted code while a compiler will generate the machine code as output and then that machine code is run."
   ],
   "metadata": {
    "collapsed": false
   }
  },
  {
   "cell_type": "markdown",
   "source": [
    "Why choose python ?\n",
    "* Python is popular\n",
    "* Python is interpreted\n",
    "- Portable: Code can be run in any machine that has the interpreter\n",
    "- Easier to debug\n",
    "- Quicker to develop\n",
    "* Python is free\n",
    "* Python is simple\n",
    "- Python has 33 keywords, Java has 53, C++ has 62\n",
    "- Simple structure, easy to read, easy to learn"
   ],
   "metadata": {
    "collapsed": false
   }
  },
  {
   "cell_type": "markdown",
   "source": [
    "Installing python on Windows\n"
   ],
   "metadata": {
    "collapsed": false
   }
  }
 ],
 "metadata": {
  "kernelspec": {
   "display_name": "Python 3",
   "language": "python",
   "name": "python3"
  },
  "language_info": {
   "codemirror_mode": {
    "name": "ipython",
    "version": 2
   },
   "file_extension": ".py",
   "mimetype": "text/x-python",
   "name": "python",
   "nbconvert_exporter": "python",
   "pygments_lexer": "ipython2",
   "version": "2.7.6"
  }
 },
 "nbformat": 4,
 "nbformat_minor": 0
}
