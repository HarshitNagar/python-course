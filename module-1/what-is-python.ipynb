{
 "cells": [
  {
   "cell_type": "markdown",
   "source": [
    "High level programming language\n",
    "- easier to understand\n",
    "- written similar to abbreviated english\n",
    "- need to be converted to machine code using an interpreter"
   ],
   "metadata": {
    "collapsed": false
   }
  },
  {
   "cell_type": "markdown",
   "source": [
    "Python is a\n",
    "- high level programming language\n",
    "- used as both a scripting language and programming language\n",
    "  - scripting\n",
    "- uses an interpreter to convert it to machine code\n",
    "- Current python version is python 3\n",
    "- Python 2 and 3 are not quite compatible\n",
    "- Python 2 ended its life on Jan 1, 2020"
   ],
   "metadata": {
    "collapsed": false
   }
  },
  {
   "cell_type": "markdown",
   "source": [
    "Interpreter vs compiler\n",
    "- Compiler takes all the high level code and converts it to machine language at once while an interpreter works line by line\n",
    "- Interpreted languages are easier to debug\n",
    "- Interpreted code runs slower as compared to compiled code\n",
    "- Interpreter directly runs the interpreted code while a compiler will generate the machine code as output and then that machine code is run."
   ],
   "metadata": {
    "collapsed": false
   }
  },
  {
   "cell_type": "markdown",
   "source": [
    "Why choose python ?\n",
    "* Python is popular\n",
    "* Python is interpreted\n",
    "- Easier to debug\n",
    "- Quicker to develop\n",
    "* Python is free\n",
    "* Python is simple\n",
    "- great libraries and frameworks for web development like flask, django\n",
    "- very popularly used for machine learning and data analytics. Has many strong libraries like scikitlearn, numpy etc\n",
    "- Stackoverflow's developer survey tells that almost 65% people who try to learn to code choose python as their language of choice and python is the third most popular language in development community.\n",
    "- Python is very versatile and that is one thing that makes it very difficult to go obsolete in the next 10 years"
   ],
   "metadata": {
    "collapsed": false
   }
  },
  {
   "cell_type": "markdown",
   "source": [
    "Installing python on Windows\n"
   ],
   "metadata": {
    "collapsed": false
   }
  }
 ],
 "metadata": {
  "kernelspec": {
   "display_name": "Python 3",
   "language": "python",
   "name": "python3"
  },
  "language_info": {
   "codemirror_mode": {
    "name": "ipython",
    "version": 2
   },
   "file_extension": ".py",
   "mimetype": "text/x-python",
   "name": "python",
   "nbconvert_exporter": "python",
   "pygments_lexer": "ipython2",
   "version": "2.7.6"
  }
 },
 "nbformat": 4,
 "nbformat_minor": 0
}
