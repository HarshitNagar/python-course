{
 "cells": [
  {
   "cell_type": "markdown",
   "source": [
    "# For loop"
   ],
   "metadata": {
    "collapsed": false
   }
  },
  {
   "cell_type": "code",
   "execution_count": 23,
   "outputs": [
    {
     "name": "stdout",
     "output_type": "stream",
     "text": [
      "1\n",
      "2\n",
      "3\n",
      "4\n"
     ]
    }
   ],
   "source": [
    "for x in [1, 2, 3, 4]:\n",
    "  print(x)"
   ],
   "metadata": {
    "collapsed": false,
    "ExecuteTime": {
     "end_time": "2024-07-22T15:03:08.405001Z",
     "start_time": "2024-07-22T15:03:08.402639Z"
    }
   }
  },
  {
   "cell_type": "code",
   "execution_count": 27,
   "outputs": [
    {
     "data": {
      "text/plain": "dict"
     },
     "execution_count": 27,
     "metadata": {},
     "output_type": "execute_result"
    }
   ],
   "source": [
    "d = {\n",
    "  'a': \"apple\",\n",
    "  'b': \"basil\"\n",
    "}\n",
    "\n",
    "for x in d:\n",
    "  print(x)\n",
    "\n",
    "for x in d:\n",
    "    print(d[x])"
   ],
   "metadata": {
    "collapsed": false,
    "ExecuteTime": {
     "end_time": "2024-07-22T15:08:28.395352Z",
     "start_time": "2024-07-22T15:08:28.392290Z"
    }
   }
  },
  {
   "cell_type": "code",
   "execution_count": 29,
   "outputs": [
    {
     "data": {
      "text/plain": "<list_iterator at 0x10568f310>"
     },
     "execution_count": 29,
     "metadata": {},
     "output_type": "execute_result"
    }
   ],
   "source": [
    "# iterators\n",
    "# iter('foobar')                             # String\n",
    "# iter(['foo', 'bar', 'baz'])                # List\n",
    "# iter(('foo', 'bar', 'baz'))                # Tuple\n",
    "# iter({'foo', 'bar', 'baz'})                # Set\n",
    "# iter({'foo': 1, 'bar': 2, 'baz': 3})       # Dict"
   ],
   "metadata": {
    "collapsed": false,
    "ExecuteTime": {
     "end_time": "2024-07-22T15:11:18.928018Z",
     "start_time": "2024-07-22T15:11:18.924635Z"
    }
   }
  },
  {
   "cell_type": "code",
   "execution_count": 30,
   "outputs": [
    {
     "ename": "TypeError",
     "evalue": "'int' object is not iterable",
     "output_type": "error",
     "traceback": [
      "\u001B[0;31m---------------------------------------------------------------------------\u001B[0m",
      "\u001B[0;31mTypeError\u001B[0m                                 Traceback (most recent call last)",
      "Cell \u001B[0;32mIn[30], line 2\u001B[0m\n\u001B[1;32m      1\u001B[0m \u001B[38;5;66;03m# not iterable\u001B[39;00m\n\u001B[0;32m----> 2\u001B[0m \u001B[38;5;28;43miter\u001B[39;49m\u001B[43m(\u001B[49m\u001B[38;5;241;43m42\u001B[39;49m\u001B[43m)\u001B[49m                                   \u001B[38;5;66;03m# Integer\u001B[39;00m\n\u001B[1;32m      3\u001B[0m \u001B[38;5;66;03m# iter(3.1)                                  # Float                                # Built-in function\u001B[39;00m\n",
      "\u001B[0;31mTypeError\u001B[0m: 'int' object is not iterable"
     ]
    }
   ],
   "source": [
    "# not iterable\n",
    "# iter(42)                                   # Integer\n",
    "# iter(3.1)                                  # Float                                # Built-in function"
   ],
   "metadata": {
    "collapsed": false,
    "ExecuteTime": {
     "end_time": "2024-07-22T15:12:15.470984Z",
     "start_time": "2024-07-22T15:12:15.440720Z"
    }
   }
  },
  {
   "cell_type": "code",
   "execution_count": 41,
   "outputs": [
    {
     "name": "stdout",
     "output_type": "stream",
     "text": [
      "hellohellohellohellohellohellohellohellohello"
     ]
    }
   ],
   "source": [
    "# using iterators\n",
    "# a = ['foo', 'bar', 'baz']\n",
    "# itr = iter(a)\n",
    "# itr\n",
    "# next(itr)\n",
    "# next(itr)\n",
    "# next(itr)\n",
    "# next(itr)\n",
    "\n",
    "for i in range(1, 10):\n",
    "  print(\"hello\", end = \"\")"
   ],
   "metadata": {
    "collapsed": false,
    "ExecuteTime": {
     "end_time": "2024-07-22T15:24:28.179121Z",
     "start_time": "2024-07-22T15:24:28.174069Z"
    }
   }
  },
  {
   "cell_type": "code",
   "execution_count": 39,
   "outputs": [
    {
     "name": "stdout",
     "output_type": "stream",
     "text": [
      "\n",
      " *  *  *  *  *  *  *  *  *  * \n",
      " *  *  *  *  *  *  *  *  *  * \n",
      " *  *  *  *  *  *  *  *  *  * \n",
      " *  *  *  *  *  *  *  *  *  * \n",
      " *  *  *  *  *  *  *  *  *  * \n",
      " *  *  *  *  *  *  *  *  *  * \n",
      " *  *  *  *  *  *  *  *  *  * \n",
      " *  *  *  *  *  *  *  *  *  * \n",
      " *  *  *  *  *  *  *  *  *  * "
     ]
    }
   ],
   "source": [
    "for a in range(1, 10):\n",
    "  print('')\n",
    "  for b in range(1, 11):\n",
    "    print(' * ', end = \"\")\n",
    "\n"
   ],
   "metadata": {
    "collapsed": false,
    "ExecuteTime": {
     "end_time": "2024-07-22T15:23:39.930245Z",
     "start_time": "2024-07-22T15:23:39.927707Z"
    }
   }
  },
  {
   "cell_type": "code",
   "execution_count": 42,
   "outputs": [
    {
     "name": "stdout",
     "output_type": "stream",
     "text": [
      "\n",
      "\n",
      " * \n",
      " *  * \n",
      " *  *  * \n",
      " *  *  *  * \n",
      " *  *  *  *  * \n",
      " *  *  *  *  *  * \n",
      " *  *  *  *  *  *  * \n",
      " *  *  *  *  *  *  *  * \n",
      " *  *  *  *  *  *  *  *  * "
     ]
    }
   ],
   "source": [
    "for a in range(1, 11):\n",
    "    print('\\n', end=\"\")\n",
    "    for b in range(1, a):\n",
    "        print(' * ', end=\"\")"
   ],
   "metadata": {
    "collapsed": false,
    "ExecuteTime": {
     "end_time": "2024-07-22T15:24:45.049217Z",
     "start_time": "2024-07-22T15:24:45.041848Z"
    }
   }
  },
  {
   "cell_type": "code",
   "execution_count": 44,
   "outputs": [
    {
     "name": "stdout",
     "output_type": "stream",
     "text": [
      " *  *  *  *  *  *  *  *  *  *  *  *  *  *  *  *  *  *  *  *  *  *  *  *  *  *  *  *  *  *  *  *  *  *  *  *  *  *  *  *  *  *  *  *  *  *  *  *  *  *  *  *  *  *  *  *  *  *  *  *  *  *  *  *  *  *  *  *  *  *  *  *  *  *  *  *  *  *  *  *  *  *  *  *  *  *  *  *  *  *  *  *  *  *  *  *  *  *  *  * "
     ]
    }
   ],
   "source": [],
   "metadata": {
    "collapsed": false,
    "ExecuteTime": {
     "end_time": "2024-07-22T15:28:34.845179Z",
     "start_time": "2024-07-22T15:28:34.841640Z"
    }
   }
  },
  {
   "cell_type": "code",
   "execution_count": null,
   "outputs": [],
   "source": [],
   "metadata": {
    "collapsed": false
   }
  }
 ],
 "metadata": {
  "kernelspec": {
   "display_name": "Python 3",
   "language": "python",
   "name": "python3"
  },
  "language_info": {
   "codemirror_mode": {
    "name": "ipython",
    "version": 2
   },
   "file_extension": ".py",
   "mimetype": "text/x-python",
   "name": "python",
   "nbconvert_exporter": "python",
   "pygments_lexer": "ipython2",
   "version": "2.7.6"
  }
 },
 "nbformat": 4,
 "nbformat_minor": 0
}
