{
 "cells": [
  {
   "cell_type": "markdown",
   "source": [
    "# Operators in python\n",
    "In Python, operators are special symbols, combinations of symbols, or keywords that designate some type of computation. You can combine objects and operators to build expressions that perform the actual computation. So, operators are the building blocks of expressions, which you can use to manipulate your data."
   ],
   "metadata": {
    "collapsed": false
   }
  },
  {
   "cell_type": "markdown",
   "source": [
    "Assignment operators\n",
    "=\n",
    "Arithmetic operators\n",
    "+ - * / % // **\n",
    "Comparison operators\n",
    "*\n",
    "Boolean or logical operators\n",
    "Identity operators\n",
    "Membership operators\n",
    "Concatenation and repetition operators\n",
    "Bitwise operators"
   ],
   "metadata": {
    "collapsed": false
   }
  },
  {
   "cell_type": "code",
   "execution_count": null,
   "outputs": [],
   "source": [
    "# Assignment operators\n",
    "# =\n",
    "# Arithmetic operators\n",
    "# unary and binary +\n",
    "# unary and binary -\n",
    "# *\n",
    "# /\n",
    "# %\n",
    "# //\n",
    "# **\n",
    "# Comparison operators\n",
    "# ==\n",
    "# !=\n",
    "# <\n",
    "# <=\n",
    "# >\n",
    "# >=\n",
    "# Boolean or logical operators\n",
    "# and, or, not"
   ],
   "metadata": {
    "collapsed": false
   }
  },
  {
   "cell_type": "code",
   "execution_count": 4,
   "outputs": [
    {
     "data": {
      "text/plain": "False"
     },
     "execution_count": 4,
     "metadata": {},
     "output_type": "execute_result"
    }
   ],
   "source": [
    "x = 1.1 + 2.2\n",
    "x == 3.3\n"
   ],
   "metadata": {
    "collapsed": false,
    "ExecuteTime": {
     "end_time": "2024-07-07T04:23:10.332640Z",
     "start_time": "2024-07-07T04:23:10.327444Z"
    }
   }
  },
  {
   "cell_type": "code",
   "execution_count": 5,
   "outputs": [
    {
     "data": {
      "text/plain": "False"
     },
     "execution_count": 5,
     "metadata": {},
     "output_type": "execute_result"
    }
   ],
   "source": [
    "# boolean\n",
    "5 < 7 and 3 == 3\n",
    "5 < 7 and 3 != 3\n",
    "5 > 7 and 3 == 3\n",
    "5 > 7 and 3 != 3"
   ],
   "metadata": {
    "collapsed": false,
    "ExecuteTime": {
     "end_time": "2024-07-07T04:24:56.317335Z",
     "start_time": "2024-07-07T04:24:56.313810Z"
    }
   }
  }
 ],
 "metadata": {
  "kernelspec": {
   "display_name": "Python 3",
   "language": "python",
   "name": "python3"
  },
  "language_info": {
   "codemirror_mode": {
    "name": "ipython",
    "version": 2
   },
   "file_extension": ".py",
   "mimetype": "text/x-python",
   "name": "python",
   "nbconvert_exporter": "python",
   "pygments_lexer": "ipython2",
   "version": "2.7.6"
  }
 },
 "nbformat": 4,
 "nbformat_minor": 0
}
