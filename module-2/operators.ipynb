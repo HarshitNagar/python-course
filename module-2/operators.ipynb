{
 "cells": [
  {
   "cell_type": "markdown",
   "source": [
    "# Operators in python\n",
    "In Python, operators are special symbols, combinations of symbols, or keywords that designate some type of computation. You can combine objects and operators to build expressions that perform the actual computation. So, operators are the building blocks of expressions, which you can use to manipulate your data."
   ],
   "metadata": {
    "collapsed": false
   }
  },
  {
   "cell_type": "markdown",
   "source": [
    "Assignment operators\n",
    "=\n",
    "Arithmetic operators\n",
    "+ - * / % // **\n",
    "Comparison operators\n",
    "*\n",
    "Boolean or logical operators\n",
    "Identity operators\n",
    "Membership operators\n",
    "Concatenation and repetition operators\n",
    "Bitwise operators"
   ],
   "metadata": {
    "collapsed": false
   }
  },
  {
   "cell_type": "code",
   "execution_count": 1,
   "outputs": [],
   "source": [
    "# Assignment operators\n",
    "# =\n",
    "# Arithmetic operators\n",
    "# unary and binary +\n",
    "# unary and binary -\n",
    "# *\n",
    "# /\n",
    "# %\n",
    "# //\n",
    "# **\n",
    "# Comparison operators\n",
    "# ==\n",
    "# !=\n",
    "# <\n",
    "# <=\n",
    "# >\n",
    "# >=\n",
    "# Boolean or logical operators\n",
    "# and, or, not"
   ],
   "metadata": {
    "collapsed": false
   }
  },
  {
   "cell_type": "code",
   "execution_count": 2,
   "outputs": [
    {
     "data": {
      "text/plain": "False"
     },
     "execution_count": 2,
     "metadata": {},
     "output_type": "execute_result"
    }
   ],
   "source": [
    "x = 1.1 + 2.2\n",
    "x == 3.3\n"
   ],
   "metadata": {
    "collapsed": false
   }
  },
  {
   "cell_type": "code",
   "execution_count": 3,
   "outputs": [
    {
     "data": {
      "text/plain": "False"
     },
     "execution_count": 3,
     "metadata": {},
     "output_type": "execute_result"
    }
   ],
   "source": [
    "# boolean\n",
    "5 < 7 and 3 == 3\n",
    "5 < 7 and 3 != 3\n",
    "5 > 7 and 3 == 3\n",
    "5 > 7 and 3 != 3"
   ],
   "metadata": {
    "collapsed": false
   }
  }
 ],
 "metadata": {
  "kernelspec": {
   "display_name": "Python 3",
   "language": "python",
   "name": "python3"
  },
  "language_info": {
   "codemirror_mode": {
    "name": "ipython",
    "version": 2
   },
   "file_extension": ".py",
   "mimetype": "text/x-python",
   "name": "python",
   "nbconvert_exporter": "python",
   "pygments_lexer": "ipython2",
   "version": "2.7.6"
  }
 },
 "nbformat": 4,
 "nbformat_minor": 0
}
