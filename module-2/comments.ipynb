{
 "cells": [
  {
   "cell_type": "code",
   "execution_count": 1,
   "metadata": {
    "collapsed": true,
    "ExecuteTime": {
     "end_time": "2024-07-06T21:09:22.461651Z",
     "start_time": "2024-07-06T21:09:22.426702Z"
    }
   },
   "outputs": [
    {
     "data": {
      "text/plain": "'\\nThis is a multiline \"comment\".\\nNotice the double quotes.\\nThis means it is not REALLY a comment.\\nThis is actually a multiline string.\\nBut since it is not assigned to anything it will be ignored.\\nHence it acts like a comment.\\nGotta be careful when using these though.\\n'"
     },
     "execution_count": 1,
     "metadata": {},
     "output_type": "execute_result"
    }
   ],
   "source": [
    "# This is a comment\n",
    "\n",
    "'''\n",
    "This is a multiline \"comment\".\n",
    "Notice the double quotes.\n",
    "This means it is not REALLY a comment.\n",
    "This is actually a multiline string.\n",
    "But since it is not assigned to anything it will be ignored.\n",
    "Hence it acts like a comment.\n",
    "Gotta be careful when using these though.\n",
    "'''"
   ]
  },
  {
   "cell_type": "markdown",
   "source": [
    "# Commenting rules\n",
    "- No WET comments. Only DRY comments: don't repeat yourself\n",
    "- No Smelly comments: Comments are not a way to compensate for poor code. Your comments should not be explaining your code but only supporting it."
   ],
   "metadata": {
    "collapsed": false
   }
  },
  {
   "cell_type": "code",
   "execution_count": 2,
   "outputs": [
    {
     "name": "stdout",
     "output_type": "stream",
     "text": [
      "Hello\n"
     ]
    }
   ],
   "source": [
    "# WET comment\n",
    "print(\"Hello\") # Printing word \"hello\"\n",
    "\n",
    "# Smelly comment\n",
    "racket_sports = (\"table tennis\", \"badminton\", \"squash\", \"lawn tennis\") # list of racket sports by size of racket"
   ],
   "metadata": {
    "collapsed": false,
    "ExecuteTime": {
     "end_time": "2024-07-06T21:09:22.482229Z",
     "start_time": "2024-07-06T21:09:22.460564Z"
    }
   }
  }
 ],
 "metadata": {
  "kernelspec": {
   "display_name": "Python 3",
   "language": "python",
   "name": "python3"
  },
  "language_info": {
   "codemirror_mode": {
    "name": "ipython",
    "version": 2
   },
   "file_extension": ".py",
   "mimetype": "text/x-python",
   "name": "python",
   "nbconvert_exporter": "python",
   "pygments_lexer": "ipython2",
   "version": "2.7.6"
  }
 },
 "nbformat": 4,
 "nbformat_minor": 0
}
