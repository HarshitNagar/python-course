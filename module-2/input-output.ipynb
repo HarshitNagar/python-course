{
 "cells": [
  {
   "cell_type": "markdown",
   "metadata": {
    "collapsed": false,
    "jupyter": {
     "outputs_hidden": false
    }
   },
   "source": [
    "# input output in python"
   ]
  },
  {
   "cell_type": "code",
   "execution_count": 1,
   "metadata": {
    "collapsed": false,
    "jupyter": {
     "outputs_hidden": false
    },
    "ExecuteTime": {
     "end_time": "2024-07-19T14:48:37.650747Z",
     "start_time": "2024-07-19T14:48:30.455758Z"
    }
   },
   "outputs": [
    {
     "data": {
      "text/plain": "'harshit'"
     },
     "execution_count": 1,
     "metadata": {},
     "output_type": "execute_result"
    }
   ],
   "source": [
    "# reading input from keyboard\n",
    "# input() function always returns a string\n",
    "user_input = input()\n",
    "user_input"
   ]
  },
  {
   "cell_type": "code",
   "execution_count": 2,
   "metadata": {
    "collapsed": false,
    "jupyter": {
     "outputs_hidden": false
    },
    "ExecuteTime": {
     "end_time": "2024-07-19T14:49:25.642801Z",
     "start_time": "2024-07-19T14:49:13.666852Z"
    }
   },
   "outputs": [
    {
     "data": {
      "text/plain": "'some input'"
     },
     "execution_count": 2,
     "metadata": {},
     "output_type": "execute_result"
    }
   ],
   "source": [
    "user_input = input(\"Reading some input\")\n",
    "user_input"
   ]
  },
  {
   "cell_type": "code",
   "execution_count": 5,
   "metadata": {
    "collapsed": false,
    "jupyter": {
     "outputs_hidden": false
    },
    "ExecuteTime": {
     "end_time": "2024-07-19T14:51:44.177109Z",
     "start_time": "2024-07-19T14:51:41.002413Z"
    }
   },
   "outputs": [
    {
     "data": {
      "text/plain": "'Hello, harshit. You are 10. After 10 years you will be 20'"
     },
     "execution_count": 5,
     "metadata": {},
     "output_type": "execute_result"
    }
   ],
   "source": [
    "name = input(\"What is your name? \")\n",
    "age = int(input(\"How old are you? \"))\n",
    "\n",
    "f\"Hello, {name}. You are {age}. After 10 years you will be {age + 10}\""
   ]
  }
 ],
 "metadata": {
  "kernelspec": {
   "display_name": "Python 3 (ipykernel)",
   "language": "python",
   "name": "python3"
  },
  "language_info": {
   "codemirror_mode": {
    "name": "ipython",
    "version": 3
   },
   "file_extension": ".py",
   "mimetype": "text/x-python",
   "name": "python",
   "nbconvert_exporter": "python",
   "pygments_lexer": "ipython3",
   "version": "3.11.9"
  }
 },
 "nbformat": 4,
 "nbformat_minor": 4
}
