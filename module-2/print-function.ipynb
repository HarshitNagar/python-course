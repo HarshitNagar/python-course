{
 "cells": [
  {
   "cell_type": "markdown",
   "source": [
    "# Calling print function\n",
    "- The parenthesis tell python to execute the function called print.\n",
    "- This will print the newline character ('\\n') ie. equivalent to pressing the 'Enter' key.\n",
    "- Q: What is the difference between pressing enter and an empty line ?"
   ],
   "metadata": {
    "collapsed": false
   }
  },
  {
   "cell_type": "code",
   "execution_count": 1,
   "outputs": [
    {
     "name": "stdout",
     "output_type": "stream",
     "text": [
      "\n",
      "\n",
      "\n",
      "\n"
     ]
    }
   ],
   "source": [
    "print() # Blank line\n",
    "print('\\n') # Blank line\n",
    "print('') # Empty line"
   ],
   "metadata": {
    "collapsed": false,
    "ExecuteTime": {
     "end_time": "2024-07-12T21:23:30.335364Z",
     "start_time": "2024-07-12T21:23:30.330194Z"
    }
   }
  },
  {
   "cell_type": "markdown",
   "source": [
    "# Print a string\n",
    "- Both \" and ' are used to enclose strings. Just choose 1 and keep using it consistently."
   ],
   "metadata": {
    "collapsed": false
   }
  },
  {
   "cell_type": "code",
   "execution_count": 2,
   "outputs": [
    {
     "name": "stdout",
     "output_type": "stream",
     "text": [
      "Hello! Printing a string here\n",
      "This is also a string.\n",
      "This is a string too.\n",
      "hello. this is 'the print statement' using both \" and ' \n"
     ]
    }
   ],
   "source": [
    "print(\"Hello! Printing a string here\")\n",
    "print('This is also a string.')\n",
    "\n",
    "message = \"This is a string too.\"\n",
    "print(message)\n",
    "\n",
    "print(\"hello. this is 'the print statement' using both \\\" and \\' \")\n"
   ],
   "metadata": {
    "collapsed": false,
    "ExecuteTime": {
     "end_time": "2024-07-12T21:23:30.384923Z",
     "start_time": "2024-07-12T21:23:30.337488Z"
    }
   }
  },
  {
   "cell_type": "code",
   "execution_count": 3,
   "outputs": [
    {
     "name": "stdout",
     "output_type": "stream",
     "text": [
      "\"\"\"hello\"\"\"\n"
     ]
    }
   ],
   "source": [
    "# print(\"hello\\\"\")\n",
    "print('\"\"\"hello\"\"\"')"
   ],
   "metadata": {
    "collapsed": false,
    "ExecuteTime": {
     "end_time": "2024-07-12T21:23:30.385295Z",
     "start_time": "2024-07-12T21:23:30.345513Z"
    }
   }
  },
  {
   "cell_type": "markdown",
   "source": [
    "String concatenation in print function"
   ],
   "metadata": {
    "collapsed": false
   }
  },
  {
   "cell_type": "code",
   "execution_count": 4,
   "outputs": [
    {
     "name": "stdout",
     "output_type": "stream",
     "text": [
      "Hello World\n",
      "Hello_World\n",
      "Hello\n",
      "World\n"
     ]
    }
   ],
   "source": [
    "print(\"Hello\", \"World\")\n",
    "print(\"Hello\" + \"_\" + \"World\")\n",
    "print(\"Hello\" + \"\\n\" + \"World\")\n",
    "\n"
   ],
   "metadata": {
    "collapsed": false,
    "ExecuteTime": {
     "end_time": "2024-07-12T21:23:30.385379Z",
     "start_time": "2024-07-12T21:23:30.351694Z"
    }
   }
  },
  {
   "cell_type": "markdown",
   "source": [
    "What would happen here ?"
   ],
   "metadata": {
    "collapsed": false
   }
  },
  {
   "cell_type": "code",
   "execution_count": 5,
   "outputs": [
    {
     "name": "stdout",
     "output_type": "stream",
     "text": [
      "Hello 4\n",
      "Hello4\n"
     ]
    },
    {
     "ename": "TypeError",
     "evalue": "can only concatenate str (not \"int\") to str",
     "output_type": "error",
     "traceback": [
      "\u001B[0;31m---------------------------------------------------------------------------\u001B[0m",
      "\u001B[0;31mTypeError\u001B[0m                                 Traceback (most recent call last)",
      "Cell \u001B[0;32mIn[5], line 3\u001B[0m\n\u001B[1;32m      1\u001B[0m \u001B[38;5;28mprint\u001B[39m(\u001B[38;5;124m\"\u001B[39m\u001B[38;5;124mHello\u001B[39m\u001B[38;5;124m\"\u001B[39m, \u001B[38;5;241m4\u001B[39m)\n\u001B[1;32m      2\u001B[0m \u001B[38;5;28mprint\u001B[39m(\u001B[38;5;124m\"\u001B[39m\u001B[38;5;124mHello\u001B[39m\u001B[38;5;124m\"\u001B[39m \u001B[38;5;241m+\u001B[39m \u001B[38;5;124m\"\u001B[39m\u001B[38;5;124m4\u001B[39m\u001B[38;5;124m\"\u001B[39m)\n\u001B[0;32m----> 3\u001B[0m \u001B[38;5;28mprint\u001B[39m(\u001B[38;5;124;43m\"\u001B[39;49m\u001B[38;5;124;43mHello\u001B[39;49m\u001B[38;5;124;43m\"\u001B[39;49m\u001B[43m \u001B[49m\u001B[38;5;241;43m+\u001B[39;49m\u001B[43m \u001B[49m\u001B[38;5;241;43m4\u001B[39;49m)\n",
      "\u001B[0;31mTypeError\u001B[0m: can only concatenate str (not \"int\") to str"
     ]
    }
   ],
   "source": [
    "print(\"Hello\", 4)\n",
    "print(\"Hello\" + \"4\")\n",
    "print(\"Hello\" + 4)"
   ],
   "metadata": {
    "collapsed": false,
    "ExecuteTime": {
     "end_time": "2024-07-12T21:23:30.487180Z",
     "start_time": "2024-07-12T21:23:30.356712Z"
    }
   }
  },
  {
   "cell_type": "markdown",
   "source": [
    "What can we do about the error ?\n",
    "- str() is a global inbuilt function that converts an object into its string representation."
   ],
   "metadata": {
    "collapsed": false
   }
  },
  {
   "cell_type": "code",
   "execution_count": null,
   "outputs": [],
   "source": [
    "print(\"Hello\" + str(4))"
   ],
   "metadata": {
    "collapsed": false,
    "ExecuteTime": {
     "start_time": "2024-07-12T21:23:30.470844Z"
    }
   }
  },
  {
   "cell_type": "markdown",
   "source": [
    "print() accepts any kind of input regardless of its type. But how does it know how to handle all these different types ?\n",
    "- It does not. It just converts everything to string and prints it out."
   ],
   "metadata": {
    "collapsed": false
   }
  },
  {
   "cell_type": "code",
   "execution_count": null,
   "outputs": [],
   "source": [
    "print(400)\n",
    "print(3.14)\n",
    "print(1+2j)\n",
    "print"
   ],
   "metadata": {
    "collapsed": false,
    "ExecuteTime": {
     "start_time": "2024-07-12T21:23:30.472139Z"
    }
   }
  }
 ],
 "metadata": {
  "kernelspec": {
   "display_name": "Python 3",
   "language": "python",
   "name": "python3"
  },
  "language_info": {
   "codemirror_mode": {
    "name": "ipython",
    "version": 2
   },
   "file_extension": ".py",
   "mimetype": "text/x-python",
   "name": "python",
   "nbconvert_exporter": "python",
   "pygments_lexer": "ipython2",
   "version": "2.7.6"
  }
 },
 "nbformat": 4,
 "nbformat_minor": 0
}
