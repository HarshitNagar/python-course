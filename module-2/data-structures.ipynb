{
 "cells": [
  {
   "cell_type": "markdown",
   "source": [
    "# Data structures in python\n",
    "- Each data structure provides a particular way of organizing data so it can be accessed efficiently, depending on your use case. Python ships with an extensive set of data structures in its standard library."
   ],
   "metadata": {
    "collapsed": false
   }
  },
  {
   "cell_type": "markdown",
   "source": [
    "# Dictionaries\n",
    "- Dicts store an arbitrary number of objects, each identified by a unique dictionary key.\n",
    "- Dictionaries are also often called maps, hashmaps, lookup tables, or associative arrays.\n",
    "- They allow for the efficient lookup, insertion, and deletion of any object associated with a given key.\n",
    "- Phone books make a decent real-world analog for dictionary objects. They allow you to quickly retrieve the information (phone number) associated with a given key (a person’s name). Instead of having to read a phone book front to back to find someone’s number, you can jump more or less directly to a name and look up the associated information."
   ],
   "metadata": {
    "collapsed": false
   }
  },
  {
   "cell_type": "code",
   "execution_count": 5,
   "outputs": [],
   "source": [
    "phonebook = {\n",
    "    \"a\": 9,\n",
    "    \"x\": 2,\n",
    "    \"r\": 2,\n",
    "    \"y\": 5\n",
    "}\n",
    "\n",
    "squares = {s: s*s for s in range(6)}"
   ],
   "metadata": {
    "collapsed": false,
    "ExecuteTime": {
     "end_time": "2024-07-07T02:42:06.078254Z",
     "start_time": "2024-07-07T02:42:06.065876Z"
    }
   }
  },
  {
   "cell_type": "code",
   "execution_count": 6,
   "outputs": [
    {
     "data": {
      "text/plain": "2"
     },
     "execution_count": 6,
     "metadata": {},
     "output_type": "execute_result"
    }
   ],
   "source": [
    "phonebook['r']"
   ],
   "metadata": {
    "collapsed": false,
    "ExecuteTime": {
     "end_time": "2024-07-07T02:42:06.090043Z",
     "start_time": "2024-07-07T02:42:06.070804Z"
    }
   }
  },
  {
   "cell_type": "code",
   "execution_count": 7,
   "outputs": [
    {
     "data": {
      "text/plain": "{0: 0, 1: 1, 2: 4, 3: 9, 4: 16, 5: 25}"
     },
     "execution_count": 7,
     "metadata": {},
     "output_type": "execute_result"
    }
   ],
   "source": [
    "squares"
   ],
   "metadata": {
    "collapsed": false,
    "ExecuteTime": {
     "end_time": "2024-07-07T02:42:06.090232Z",
     "start_time": "2024-07-07T02:42:06.084475Z"
    }
   }
  },
  {
   "cell_type": "markdown",
   "source": [
    "# How do dictionaries work ?"
   ],
   "metadata": {
    "collapsed": false
   }
  },
  {
   "cell_type": "markdown",
   "source": [
    "# Working with dictionaries"
   ],
   "metadata": {
    "collapsed": false
   }
  },
  {
   "cell_type": "code",
   "execution_count": 15,
   "outputs": [],
   "source": [
    "teams = dict(\n",
    "    Mumbai='Mumbai Indians',\n",
    "    Kolkata='Kolkata Knight Riders',\n",
    "    Chennai='Chennai Super Kings',\n",
    "    Bangalore='Royal Challengers Bangalore',\n",
    "    Gujarat='Gujarat Titans'\n",
    ")"
   ],
   "metadata": {
    "collapsed": false,
    "ExecuteTime": {
     "end_time": "2024-07-07T03:04:24.646334Z",
     "start_time": "2024-07-07T03:04:24.632892Z"
    }
   }
  },
  {
   "cell_type": "code",
   "execution_count": 16,
   "outputs": [
    {
     "data": {
      "text/plain": "{'Mumbai': 'Mumbai Indians',\n 'Kolkata': 'Kolkata Knight Riders',\n 'Chennai': 'Chennai Super Kings',\n 'Bangalore': 'Royal Challengers Bangalore',\n 'Gujarat': 'Gujarat Titans'}"
     },
     "execution_count": 16,
     "metadata": {},
     "output_type": "execute_result"
    }
   ],
   "source": [
    "# Print the dict\n",
    "teams"
   ],
   "metadata": {
    "collapsed": false,
    "ExecuteTime": {
     "end_time": "2024-07-07T03:04:25.855231Z",
     "start_time": "2024-07-07T03:04:25.851320Z"
    }
   }
  },
  {
   "cell_type": "code",
   "execution_count": 19,
   "outputs": [
    {
     "data": {
      "text/plain": "'Gujarat Titans'"
     },
     "execution_count": 19,
     "metadata": {},
     "output_type": "execute_result"
    }
   ],
   "source": [
    "# Accessing entries in a dict\n",
    "# teams[1]\n",
    "teams[\"Gujarat\"]"
   ],
   "metadata": {
    "collapsed": false,
    "ExecuteTime": {
     "end_time": "2024-07-07T03:05:29.420886Z",
     "start_time": "2024-07-07T03:05:29.415547Z"
    }
   }
  },
  {
   "cell_type": "code",
   "execution_count": 21,
   "outputs": [
    {
     "data": {
      "text/plain": "{'Mumbai': 'Mumbai Indians',\n 'Kolkata': 'Kolkata Knight Riders',\n 'Chennai': 'Chennai Super Kings',\n 'Bangalore': 'Royal Challengers Bangalore',\n 'Gujarat': 'Gujarat Titans',\n 'Rajasthan': 'Rajasthan Royals'}"
     },
     "execution_count": 21,
     "metadata": {},
     "output_type": "execute_result"
    }
   ],
   "source": [
    "# Adding new value\n",
    "teams[\"Rajasthan\"] = \"Rajasthan Royals\"\n",
    "teams"
   ],
   "metadata": {
    "collapsed": false,
    "ExecuteTime": {
     "end_time": "2024-07-07T03:07:07.090887Z",
     "start_time": "2024-07-07T03:07:07.073321Z"
    }
   }
  },
  {
   "cell_type": "code",
   "execution_count": 25,
   "outputs": [
    {
     "data": {
      "text/plain": "{'Mumbai': 'Mumbai Indians',\n 'Kolkata': 'Kolkata Knight Riders',\n 'Chennai': 'Chennai Super Kings',\n 'Bangalore': 'Royal Challengers Bangalore',\n 'Rajasthan': 'Rajasthan Royals',\n 'Gujarat': 'thepla team'}"
     },
     "execution_count": 25,
     "metadata": {},
     "output_type": "execute_result"
    }
   ],
   "source": [
    "teams[\"Gujarat\"] = \"thepla team\"\n",
    "teams"
   ],
   "metadata": {
    "collapsed": false,
    "ExecuteTime": {
     "end_time": "2024-07-07T03:08:26.333542Z",
     "start_time": "2024-07-07T03:08:26.329829Z"
    }
   }
  },
  {
   "cell_type": "code",
   "execution_count": 26,
   "outputs": [
    {
     "data": {
      "text/plain": "{'Mumbai': 'Mumbai Indians',\n 'Kolkata': 'Kolkata Knight Riders',\n 'Chennai': 'Chennai Super Kings',\n 'Bangalore': 'Royal Challengers Bangalore',\n 'Rajasthan': 'Rajasthan Royals'}"
     },
     "execution_count": 26,
     "metadata": {},
     "output_type": "execute_result"
    }
   ],
   "source": [
    "del teams[\"Gujarat\"]\n",
    "teams"
   ],
   "metadata": {
    "collapsed": false,
    "ExecuteTime": {
     "end_time": "2024-07-07T03:08:27.912848Z",
     "start_time": "2024-07-07T03:08:27.908234Z"
    }
   }
  },
  {
   "cell_type": "code",
   "execution_count": 27,
   "outputs": [
    {
     "data": {
      "text/plain": "'Chennai Super Kings'"
     },
     "execution_count": 27,
     "metadata": {},
     "output_type": "execute_result"
    }
   ],
   "source": [
    "teams.get(\"Chennai\")"
   ],
   "metadata": {
    "collapsed": false,
    "ExecuteTime": {
     "end_time": "2024-07-07T03:10:48.855350Z",
     "start_time": "2024-07-07T03:10:48.848249Z"
    }
   }
  },
  {
   "cell_type": "code",
   "execution_count": 30,
   "outputs": [],
   "source": [
    "teams.get(\"Delhi\")"
   ],
   "metadata": {
    "collapsed": false,
    "ExecuteTime": {
     "end_time": "2024-07-07T03:11:42.291205Z",
     "start_time": "2024-07-07T03:11:42.283404Z"
    }
   }
  },
  {
   "cell_type": "code",
   "execution_count": 33,
   "outputs": [
    {
     "data": {
      "text/plain": "dict_keys(['Mumbai', 'Kolkata', 'Chennai', 'Bangalore', 'Rajasthan'])"
     },
     "execution_count": 33,
     "metadata": {},
     "output_type": "execute_result"
    }
   ],
   "source": [
    "teams.keys()"
   ],
   "metadata": {
    "collapsed": false,
    "ExecuteTime": {
     "end_time": "2024-07-07T03:12:52.672953Z",
     "start_time": "2024-07-07T03:12:52.669032Z"
    }
   }
  },
  {
   "cell_type": "code",
   "execution_count": 34,
   "outputs": [
    {
     "data": {
      "text/plain": "dict_values(['Mumbai Indians', 'Kolkata Knight Riders', 'Chennai Super Kings', 'Royal Challengers Bangalore', 'Rajasthan Royals'])"
     },
     "execution_count": 34,
     "metadata": {},
     "output_type": "execute_result"
    }
   ],
   "source": [
    "teams.values()"
   ],
   "metadata": {
    "collapsed": false,
    "ExecuteTime": {
     "end_time": "2024-07-07T03:13:07.543682Z",
     "start_time": "2024-07-07T03:13:07.538479Z"
    }
   }
  },
  {
   "cell_type": "code",
   "execution_count": 36,
   "outputs": [
    {
     "data": {
      "text/plain": "'Royal Challengers Bangalore'"
     },
     "execution_count": 36,
     "metadata": {},
     "output_type": "execute_result"
    }
   ],
   "source": [
    "teams.pop(\"Bangalore\")"
   ],
   "metadata": {
    "collapsed": false,
    "ExecuteTime": {
     "end_time": "2024-07-07T03:14:07.048336Z",
     "start_time": "2024-07-07T03:14:07.039056Z"
    }
   }
  },
  {
   "cell_type": "code",
   "execution_count": 37,
   "outputs": [
    {
     "data": {
      "text/plain": "('Rajasthan', 'Rajasthan Royals')"
     },
     "execution_count": 37,
     "metadata": {},
     "output_type": "execute_result"
    }
   ],
   "source": [
    "teams.popitem()"
   ],
   "metadata": {
    "collapsed": false,
    "ExecuteTime": {
     "end_time": "2024-07-07T03:15:05.760298Z",
     "start_time": "2024-07-07T03:15:05.739987Z"
    }
   }
  },
  {
   "cell_type": "markdown",
   "source": [
    "# Arrays\n",
    "- Arrays consist of fixed-size data records that allow each element to be efficiently located based on its index\n",
    "- array elements -> [A|B|C|D]\n",
    "- positions      -> [0|1|2|3]\n",
    "- Because arrays store information in adjoining blocks of memory, they’re considered contiguous data structures\n",
    "- Analogy: Parking lot\n",
    "- In python, one implementation of arrays is lists\n",
    "- Python’s lists are implemented as dynamic arrays behind the scenes.\n",
    "- This means a list allows elements to be added or removed, and the list will automatically adjust the backing store that holds these elements by allocating or releasing memory."
   ],
   "metadata": {
    "collapsed": false
   }
  },
  {
   "cell_type": "code",
   "execution_count": 44,
   "outputs": [
    {
     "data": {
      "text/plain": "['one', 2, 'three']"
     },
     "execution_count": 44,
     "metadata": {},
     "output_type": "execute_result"
    }
   ],
   "source": [
    "# creating a list\n",
    "arr = [\"one\", 2, \"three\"]\n",
    "arr"
   ],
   "metadata": {
    "collapsed": false,
    "ExecuteTime": {
     "end_time": "2024-07-07T03:31:44.136041Z",
     "start_time": "2024-07-07T03:31:44.131646Z"
    }
   }
  },
  {
   "cell_type": "code",
   "execution_count": 45,
   "outputs": [
    {
     "data": {
      "text/plain": "'one'"
     },
     "execution_count": 45,
     "metadata": {},
     "output_type": "execute_result"
    }
   ],
   "source": [
    "# list elements are ordered and can be accesses by index\n",
    "arr[0]"
   ],
   "metadata": {
    "collapsed": false,
    "ExecuteTime": {
     "end_time": "2024-07-07T03:31:47.080400Z",
     "start_time": "2024-07-07T03:31:47.075425Z"
    }
   }
  },
  {
   "cell_type": "code",
   "execution_count": 46,
   "outputs": [
    {
     "data": {
      "text/plain": "'three'"
     },
     "execution_count": 46,
     "metadata": {},
     "output_type": "execute_result"
    }
   ],
   "source": [
    "arr[-1]"
   ],
   "metadata": {
    "collapsed": false,
    "ExecuteTime": {
     "end_time": "2024-07-07T03:31:50.208220Z",
     "start_time": "2024-07-07T03:31:50.199519Z"
    }
   }
  },
  {
   "cell_type": "code",
   "execution_count": 47,
   "outputs": [
    {
     "data": {
      "text/plain": "['one', 'hello', 'three']"
     },
     "execution_count": 47,
     "metadata": {},
     "output_type": "execute_result"
    }
   ],
   "source": [
    "# lists are mutable\n",
    "arr[1] = \"hello\"\n",
    "arr"
   ],
   "metadata": {
    "collapsed": false,
    "ExecuteTime": {
     "end_time": "2024-07-07T03:32:01.037520Z",
     "start_time": "2024-07-07T03:32:01.032248Z"
    }
   }
  },
  {
   "cell_type": "code",
   "execution_count": 49,
   "outputs": [
    {
     "data": {
      "text/plain": "[[1, 2, 3], {'a': 1, 'b': 2}, True, False, 3.14]"
     },
     "execution_count": 49,
     "metadata": {},
     "output_type": "execute_result"
    }
   ],
   "source": [
    "# lists can contain arbitrary objects\n",
    "arr = [[1,2,3], {\"a\":1, \"b\":2}, True, False, 3.14]\n",
    "arr"
   ],
   "metadata": {
    "collapsed": false,
    "ExecuteTime": {
     "end_time": "2024-07-07T03:32:16.542573Z",
     "start_time": "2024-07-07T03:32:16.531599Z"
    }
   }
  },
  {
   "cell_type": "code",
   "execution_count": 50,
   "outputs": [
    {
     "data": {
      "text/plain": "[True, False, 3.14]"
     },
     "execution_count": 50,
     "metadata": {},
     "output_type": "execute_result"
    }
   ],
   "source": [
    "# lists can be sliced\n",
    "arr[2:5]"
   ],
   "metadata": {
    "collapsed": false,
    "ExecuteTime": {
     "end_time": "2024-07-07T03:32:20.180542Z",
     "start_time": "2024-07-07T03:32:20.176310Z"
    }
   }
  },
  {
   "cell_type": "code",
   "execution_count": 51,
   "outputs": [
    {
     "data": {
      "text/plain": "[False, 3.14]"
     },
     "execution_count": 51,
     "metadata": {},
     "output_type": "execute_result"
    }
   ],
   "source": [
    "arr[3:]"
   ],
   "metadata": {
    "collapsed": false,
    "ExecuteTime": {
     "end_time": "2024-07-07T03:32:56.564093Z",
     "start_time": "2024-07-07T03:32:56.559124Z"
    }
   }
  },
  {
   "cell_type": "code",
   "execution_count": 52,
   "outputs": [
    {
     "data": {
      "text/plain": "[[1, 2, 3], True, 3.14]"
     },
     "execution_count": 52,
     "metadata": {},
     "output_type": "execute_result"
    }
   ],
   "source": [
    "# you can specify a stride in the list\n",
    "arr[::2]"
   ],
   "metadata": {
    "collapsed": false,
    "ExecuteTime": {
     "end_time": "2024-07-07T03:33:17.421094Z",
     "start_time": "2024-07-07T03:33:17.412001Z"
    }
   }
  },
  {
   "cell_type": "code",
   "execution_count": 53,
   "outputs": [
    {
     "data": {
      "text/plain": "3"
     },
     "execution_count": 53,
     "metadata": {},
     "output_type": "execute_result"
    }
   ],
   "source": [
    "# accessing sublists\n",
    "arr[0][2]"
   ],
   "metadata": {
    "collapsed": false,
    "ExecuteTime": {
     "end_time": "2024-07-07T03:35:23.932194Z",
     "start_time": "2024-07-07T03:35:23.919818Z"
    }
   }
  },
  {
   "cell_type": "code",
   "execution_count": 56,
   "outputs": [
    {
     "data": {
      "text/plain": "[[1, 2, 3], {'a': 1, 'b': 2}, True, False, 3.14, 'damn!', 'damn!', 'damn!']"
     },
     "execution_count": 56,
     "metadata": {},
     "output_type": "execute_result"
    }
   ],
   "source": [
    "# insert elements in a list\n",
    "arr.insert(12, \"damn!\")\n",
    "arr"
   ],
   "metadata": {
    "collapsed": false,
    "ExecuteTime": {
     "end_time": "2024-07-07T03:37:15.725667Z",
     "start_time": "2024-07-07T03:37:15.720759Z"
    }
   }
  },
  {
   "cell_type": "code",
   "execution_count": 60,
   "outputs": [
    {
     "data": {
      "text/plain": "3.14"
     },
     "execution_count": 60,
     "metadata": {},
     "output_type": "execute_result"
    }
   ],
   "source": [
    "arr.pop()"
   ],
   "metadata": {
    "collapsed": false,
    "ExecuteTime": {
     "end_time": "2024-07-07T03:39:42.778317Z",
     "start_time": "2024-07-07T03:39:42.774914Z"
    }
   }
  },
  {
   "cell_type": "markdown",
   "source": [
    "# Tuples\n",
    "- Identical to lists but they are immutable\n",
    "- defined using parenthesis () instead of square brackets"
   ],
   "metadata": {
    "collapsed": false
   }
  },
  {
   "cell_type": "code",
   "execution_count": 62,
   "outputs": [],
   "source": [
    "t = ('foo', 'bar', 'baz', 'qux', 'quux', 'corge')\n",
    "# every operation that can be done in lists can be done on tuple in the exact same way except for any operation that will modify the tuple"
   ],
   "metadata": {
    "collapsed": false,
    "ExecuteTime": {
     "end_time": "2024-07-07T03:44:39.257481Z",
     "start_time": "2024-07-07T03:44:39.252442Z"
    }
   }
  },
  {
   "cell_type": "code",
   "execution_count": 64,
   "outputs": [
    {
     "name": "stdout",
     "output_type": "stream",
     "text": [
      "foo bar baz qux quux corge\n"
     ]
    }
   ],
   "source": [
    "# unpacking a tuple\n",
    "(a, b, c, d, e, f) = t\n",
    "print(a, b, c, d, e, f)"
   ],
   "metadata": {
    "collapsed": false,
    "ExecuteTime": {
     "end_time": "2024-07-07T03:44:57.103216Z",
     "start_time": "2024-07-07T03:44:57.083244Z"
    }
   }
  },
  {
   "cell_type": "markdown",
   "source": [
    "# Sets in python\n",
    "Python’s built-in set type has the following characteristics:\n",
    "- Sets are unordered.\n",
    "- Set elements are unique. Duplicate elements are not allowed.\n",
    "- A set itself may be modified, but the elements contained in the set must be of an immutable type."
   ],
   "metadata": {
    "collapsed": false
   }
  },
  {
   "cell_type": "code",
   "execution_count": 67,
   "outputs": [
    {
     "data": {
      "text/plain": "{(1, 2, 3), 3.14159, 42, 'foo'}"
     },
     "execution_count": 67,
     "metadata": {},
     "output_type": "execute_result"
    }
   ],
   "source": [
    "# Creating a set\n",
    "x = {42, 'foo', (1, 2, 3), 3.14159, 42, 'foo'}\n",
    "x\n",
    "# order is not preserved\n",
    "# elements repeated are included only once"
   ],
   "metadata": {
    "collapsed": false,
    "ExecuteTime": {
     "end_time": "2024-07-07T03:51:45.408035Z",
     "start_time": "2024-07-07T03:51:45.397025Z"
    }
   }
  },
  {
   "cell_type": "code",
   "execution_count": 70,
   "outputs": [
    {
     "ename": "TypeError",
     "evalue": "unhashable type: 'list'",
     "output_type": "error",
     "traceback": [
      "\u001B[0;31m---------------------------------------------------------------------------\u001B[0m",
      "\u001B[0;31mTypeError\u001B[0m                                 Traceback (most recent call last)",
      "Cell \u001B[0;32mIn[70], line 4\u001B[0m\n\u001B[1;32m      1\u001B[0m \u001B[38;5;66;03m# set can only be created using immutable objects\u001B[39;00m\n\u001B[1;32m      2\u001B[0m \u001B[38;5;66;03m# since lists and dicts are mutable, sets can not include them\u001B[39;00m\n\u001B[1;32m      3\u001B[0m mylist \u001B[38;5;241m=\u001B[39m [\u001B[38;5;241m1\u001B[39m, \u001B[38;5;241m2\u001B[39m, \u001B[38;5;241m3\u001B[39m]\n\u001B[0;32m----> 4\u001B[0m y \u001B[38;5;241m=\u001B[39m {mylist}\n",
      "\u001B[0;31mTypeError\u001B[0m: unhashable type: 'list'"
     ]
    }
   ],
   "source": [
    "# set can only be created using immutable objects\n",
    "# since lists and dicts are mutable, sets can not include them\n",
    "mylist = [1, 2, 3]\n",
    "y = {mylist}"
   ],
   "metadata": {
    "collapsed": false,
    "ExecuteTime": {
     "end_time": "2024-07-07T03:55:28.835314Z",
     "start_time": "2024-07-07T03:55:28.830806Z"
    }
   }
  },
  {
   "cell_type": "code",
   "execution_count": 71,
   "outputs": [
    {
     "data": {
      "text/plain": "4"
     },
     "execution_count": 71,
     "metadata": {},
     "output_type": "execute_result"
    }
   ],
   "source": [
    "# length of a set\n",
    "len(x)"
   ],
   "metadata": {
    "collapsed": false,
    "ExecuteTime": {
     "end_time": "2024-07-07T03:56:01.362254Z",
     "start_time": "2024-07-07T03:56:01.355317Z"
    }
   }
  },
  {
   "cell_type": "code",
   "execution_count": 77,
   "outputs": [
    {
     "data": {
      "text/plain": "{'bar', 'foo'}"
     },
     "execution_count": 77,
     "metadata": {},
     "output_type": "execute_result"
    }
   ],
   "source": [
    "# operations on a set can be performed using methods and operators\n",
    "x1 = {'foo', 'bar', 'baz'}\n",
    "x2 = {'baz', 'qux', 'quux'}"
   ],
   "metadata": {
    "collapsed": false,
    "ExecuteTime": {
     "end_time": "2024-07-07T03:59:47.615881Z",
     "start_time": "2024-07-07T03:59:47.603484Z"
    }
   }
  },
  {
   "cell_type": "code",
   "execution_count": null,
   "outputs": [],
   "source": [
    "# union\n",
    "x1|x2\n",
    "x1.union(x2)"
   ],
   "metadata": {
    "collapsed": false
   }
  },
  {
   "cell_type": "code",
   "execution_count": null,
   "outputs": [],
   "source": [
    "# intersection\n",
    "x1 & x2\n",
    "x1.intersection(x2)"
   ],
   "metadata": {
    "collapsed": false
   }
  },
  {
   "cell_type": "code",
   "execution_count": null,
   "outputs": [],
   "source": [
    "# difference\n",
    "x1-x2\n",
    "x1.difference(x2)"
   ],
   "metadata": {
    "collapsed": false
   }
  },
  {
   "cell_type": "code",
   "execution_count": 81,
   "outputs": [
    {
     "data": {
      "text/plain": "{(1, 2, 3), 3.14159, 42, 5, 'foo'}"
     },
     "execution_count": 81,
     "metadata": {},
     "output_type": "execute_result"
    }
   ],
   "source": [
    "# modifying sets\n",
    "x.add(5)\n",
    "x"
   ],
   "metadata": {
    "collapsed": false,
    "ExecuteTime": {
     "end_time": "2024-07-07T04:04:00.574029Z",
     "start_time": "2024-07-07T04:04:00.562863Z"
    }
   }
  },
  {
   "cell_type": "code",
   "execution_count": 82,
   "outputs": [
    {
     "data": {
      "text/plain": "{(1, 2, 3), 3.14159, 42, 'foo'}"
     },
     "execution_count": 82,
     "metadata": {},
     "output_type": "execute_result"
    }
   ],
   "source": [
    "x.remove(5)\n",
    "x"
   ],
   "metadata": {
    "collapsed": false,
    "ExecuteTime": {
     "end_time": "2024-07-07T04:04:01.762802Z",
     "start_time": "2024-07-07T04:04:01.755350Z"
    }
   }
  },
  {
   "cell_type": "markdown",
   "source": [],
   "metadata": {
    "collapsed": false
   }
  },
  {
   "cell_type": "markdown",
   "source": [
    "\n",
    "# When to use which data structure ?\n",
    "\n",
    "A list keeps order, dict and set don't: when you care about order, therefore, you must use list.\n",
    "\n",
    "dict associates each key with a value, while list and set just contain values: very different use cases, obviously.\n",
    "\n",
    "set requires items to be hashable, list doesn't: if you have non-hashable items, therefore, you cannot use set and must instead use list.\n",
    "\n",
    "set forbids duplicates, list does not: also a crucial distinction"
   ],
   "metadata": {
    "collapsed": false
   }
  }
 ],
 "metadata": {
  "kernelspec": {
   "display_name": "Python 3",
   "language": "python",
   "name": "python3"
  },
  "language_info": {
   "codemirror_mode": {
    "name": "ipython",
    "version": 2
   },
   "file_extension": ".py",
   "mimetype": "text/x-python",
   "name": "python",
   "nbconvert_exporter": "python",
   "pygments_lexer": "ipython2",
   "version": "2.7.6"
  }
 },
 "nbformat": 4,
 "nbformat_minor": 0
}
