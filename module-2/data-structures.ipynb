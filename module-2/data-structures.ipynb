{
 "cells": [
  {
   "cell_type": "markdown",
   "source": [
    "# Data structures in python\n",
    "- Each data structure provides a particular way of organizing data so it can be accessed efficiently, depending on your use case. Python ships with an extensive set of data structures in its standard library."
   ],
   "metadata": {
    "collapsed": false
   }
  },
  {
   "cell_type": "markdown",
   "source": [
    "# Dictionaries\n",
    "- Dicts store an arbitrary number of objects, each identified by a unique dictionary key.\n",
    "- Dictionaries are also often called maps, hashmaps, lookup tables, or associative arrays.\n",
    "- They allow for the efficient lookup, insertion, and deletion of any object associated with a given key.\n",
    "- Phone books make a decent real-world analog for dictionary objects. They allow you to quickly retrieve the information (phone number) associated with a given key (a person’s name). Instead of having to read a phone book front to back to find someone’s number, you can jump more or less directly to a name and look up the associated information.\n",
    "\n",
    "# What use cases for python over other languages. career track for python?"
   ],
   "metadata": {
    "collapsed": false
   }
  },
  {
   "cell_type": "code",
   "execution_count": 51,
   "outputs": [
    {
     "data": {
      "text/plain": "10"
     },
     "execution_count": 51,
     "metadata": {},
     "output_type": "execute_result"
    }
   ],
   "source": [
    "student = {\n",
    "    \"1\": \"student 1 details\",\n",
    "    \"2\": \"student 2 details\"\n",
    "}\n",
    "\n",
    "var = {\n",
    "    \"two-digit-nums\": [10, 11, 12],\n",
    "    \"single-digit-nums\": [0, 1, 2],\n",
    "    \"three-digit-numbers\": [100, 200, 300]\n",
    "}\n",
    "\n",
    "var[\"two-digit-nums\"]\n",
    "\n",
    "# print(var)\n",
    "#\n",
    "# phonebook = {\n",
    "#     \"a\": 9,\n",
    "#     \"x\": 4,\n",
    "#     \"r\": contact,\n",
    "#     \"y\": address\n",
    "# }\n",
    "\n",
    "# squares = {s: s*s for s in range(6)}"
   ],
   "metadata": {
    "collapsed": false,
    "ExecuteTime": {
     "end_time": "2024-07-19T15:32:36.255640Z",
     "start_time": "2024-07-19T15:32:36.252790Z"
    }
   }
  },
  {
   "cell_type": "code",
   "execution_count": 16,
   "outputs": [
    {
     "data": {
      "text/plain": "{'a': 9, 'x': 4, 'r': {'c': [9, 8]}, 'y': {'m': 2}}"
     },
     "execution_count": 16,
     "metadata": {},
     "output_type": "execute_result"
    }
   ],
   "source": [
    "phonebook"
   ],
   "metadata": {
    "collapsed": false,
    "ExecuteTime": {
     "end_time": "2024-07-19T13:17:57.540920Z",
     "start_time": "2024-07-19T13:17:57.536420Z"
    }
   }
  },
  {
   "cell_type": "code",
   "execution_count": 21,
   "outputs": [
    {
     "data": {
      "text/plain": "8"
     },
     "execution_count": 21,
     "metadata": {},
     "output_type": "execute_result"
    }
   ],
   "source": [
    "# squares\n",
    "phonebook[\"y\"]['m']\n",
    "phonebook[\"r\"][\"c\"][1]"
   ],
   "metadata": {
    "collapsed": false,
    "ExecuteTime": {
     "end_time": "2024-07-19T13:18:39.364759Z",
     "start_time": "2024-07-19T13:18:39.359707Z"
    }
   }
  },
  {
   "cell_type": "markdown",
   "source": [
    "# How do dictionaries work ?\n"
   ],
   "metadata": {
    "collapsed": false
   }
  },
  {
   "cell_type": "markdown",
   "source": [
    "# Working with dictionaries"
   ],
   "metadata": {
    "collapsed": false
   }
  },
  {
   "cell_type": "code",
   "execution_count": 15,
   "outputs": [],
   "source": [
    "teams = dict(\n",
    "    Mumbai='Mumbai Indians',\n",
    "    Kolkata='Kolkata Knight Riders',\n",
    "    Chennai='Chennai Super Kings',\n",
    "    Bangalore='Royal Challengers Bangalore',\n",
    "    Gujarat='Gujarat Titans'\n",
    ")"
   ],
   "metadata": {
    "collapsed": false,
    "ExecuteTime": {
     "end_time": "2024-07-07T03:04:24.646334Z",
     "start_time": "2024-07-07T03:04:24.632892Z"
    }
   }
  },
  {
   "cell_type": "code",
   "execution_count": 16,
   "outputs": [
    {
     "data": {
      "text/plain": "{'Mumbai': 'Mumbai Indians',\n 'Kolkata': 'Kolkata Knight Riders',\n 'Chennai': 'Chennai Super Kings',\n 'Bangalore': 'Royal Challengers Bangalore',\n 'Gujarat': 'Gujarat Titans'}"
     },
     "execution_count": 16,
     "metadata": {},
     "output_type": "execute_result"
    }
   ],
   "source": [
    "# Print the dict\n",
    "teams"
   ],
   "metadata": {
    "collapsed": false,
    "ExecuteTime": {
     "end_time": "2024-07-07T03:04:25.855231Z",
     "start_time": "2024-07-07T03:04:25.851320Z"
    }
   }
  },
  {
   "cell_type": "code",
   "execution_count": 19,
   "outputs": [
    {
     "data": {
      "text/plain": "'Gujarat Titans'"
     },
     "execution_count": 19,
     "metadata": {},
     "output_type": "execute_result"
    }
   ],
   "source": [
    "# Accessing entries in a dict\n",
    "# teams[1]\n",
    "teams[\"Gujarat\"]"
   ],
   "metadata": {
    "collapsed": false,
    "ExecuteTime": {
     "end_time": "2024-07-07T03:05:29.420886Z",
     "start_time": "2024-07-07T03:05:29.415547Z"
    }
   }
  },
  {
   "cell_type": "code",
   "execution_count": 21,
   "outputs": [
    {
     "data": {
      "text/plain": "{'Mumbai': 'Mumbai Indians',\n 'Kolkata': 'Kolkata Knight Riders',\n 'Chennai': 'Chennai Super Kings',\n 'Bangalore': 'Royal Challengers Bangalore',\n 'Gujarat': 'Gujarat Titans',\n 'Rajasthan': 'Rajasthan Royals'}"
     },
     "execution_count": 21,
     "metadata": {},
     "output_type": "execute_result"
    }
   ],
   "source": [
    "# Adding new value\n",
    "teams[\"Rajasthan\"] = \"Rajasthan Royals\"\n",
    "teams"
   ],
   "metadata": {
    "collapsed": false,
    "ExecuteTime": {
     "end_time": "2024-07-07T03:07:07.090887Z",
     "start_time": "2024-07-07T03:07:07.073321Z"
    }
   }
  },
  {
   "cell_type": "code",
   "execution_count": 25,
   "outputs": [
    {
     "data": {
      "text/plain": "{'Mumbai': 'Mumbai Indians',\n 'Kolkata': 'Kolkata Knight Riders',\n 'Chennai': 'Chennai Super Kings',\n 'Bangalore': 'Royal Challengers Bangalore',\n 'Rajasthan': 'Rajasthan Royals',\n 'Gujarat': 'thepla team'}"
     },
     "execution_count": 25,
     "metadata": {},
     "output_type": "execute_result"
    }
   ],
   "source": [
    "teams[\"Gujarat\"] = \"thepla team\"\n",
    "teams"
   ],
   "metadata": {
    "collapsed": false,
    "ExecuteTime": {
     "end_time": "2024-07-07T03:08:26.333542Z",
     "start_time": "2024-07-07T03:08:26.329829Z"
    }
   }
  },
  {
   "cell_type": "code",
   "execution_count": 26,
   "outputs": [
    {
     "data": {
      "text/plain": "{'Mumbai': 'Mumbai Indians',\n 'Kolkata': 'Kolkata Knight Riders',\n 'Chennai': 'Chennai Super Kings',\n 'Bangalore': 'Royal Challengers Bangalore',\n 'Rajasthan': 'Rajasthan Royals'}"
     },
     "execution_count": 26,
     "metadata": {},
     "output_type": "execute_result"
    }
   ],
   "source": [
    "del teams[\"Gujarat\"]\n",
    "teams"
   ],
   "metadata": {
    "collapsed": false,
    "ExecuteTime": {
     "end_time": "2024-07-07T03:08:27.912848Z",
     "start_time": "2024-07-07T03:08:27.908234Z"
    }
   }
  },
  {
   "cell_type": "code",
   "execution_count": 27,
   "outputs": [
    {
     "data": {
      "text/plain": "'Chennai Super Kings'"
     },
     "execution_count": 27,
     "metadata": {},
     "output_type": "execute_result"
    }
   ],
   "source": [
    "teams.get(\"Chennai\")"
   ],
   "metadata": {
    "collapsed": false,
    "ExecuteTime": {
     "end_time": "2024-07-07T03:10:48.855350Z",
     "start_time": "2024-07-07T03:10:48.848249Z"
    }
   }
  },
  {
   "cell_type": "code",
   "execution_count": 30,
   "outputs": [],
   "source": [
    "teams.get(\"Delhi\")"
   ],
   "metadata": {
    "collapsed": false,
    "ExecuteTime": {
     "end_time": "2024-07-07T03:11:42.291205Z",
     "start_time": "2024-07-07T03:11:42.283404Z"
    }
   }
  },
  {
   "cell_type": "code",
   "execution_count": 33,
   "outputs": [
    {
     "data": {
      "text/plain": "dict_keys(['Mumbai', 'Kolkata', 'Chennai', 'Bangalore', 'Rajasthan'])"
     },
     "execution_count": 33,
     "metadata": {},
     "output_type": "execute_result"
    }
   ],
   "source": [
    "teams.keys()"
   ],
   "metadata": {
    "collapsed": false,
    "ExecuteTime": {
     "end_time": "2024-07-07T03:12:52.672953Z",
     "start_time": "2024-07-07T03:12:52.669032Z"
    }
   }
  },
  {
   "cell_type": "code",
   "execution_count": 34,
   "outputs": [
    {
     "data": {
      "text/plain": "dict_values(['Mumbai Indians', 'Kolkata Knight Riders', 'Chennai Super Kings', 'Royal Challengers Bangalore', 'Rajasthan Royals'])"
     },
     "execution_count": 34,
     "metadata": {},
     "output_type": "execute_result"
    }
   ],
   "source": [
    "teams.values()"
   ],
   "metadata": {
    "collapsed": false,
    "ExecuteTime": {
     "end_time": "2024-07-07T03:13:07.543682Z",
     "start_time": "2024-07-07T03:13:07.538479Z"
    }
   }
  },
  {
   "cell_type": "code",
   "execution_count": 36,
   "outputs": [
    {
     "data": {
      "text/plain": "'Royal Challengers Bangalore'"
     },
     "execution_count": 36,
     "metadata": {},
     "output_type": "execute_result"
    }
   ],
   "source": [
    "teams.pop(\"Bangalore\")"
   ],
   "metadata": {
    "collapsed": false,
    "ExecuteTime": {
     "end_time": "2024-07-07T03:14:07.048336Z",
     "start_time": "2024-07-07T03:14:07.039056Z"
    }
   }
  },
  {
   "cell_type": "code",
   "execution_count": 37,
   "outputs": [
    {
     "data": {
      "text/plain": "('Rajasthan', 'Rajasthan Royals')"
     },
     "execution_count": 37,
     "metadata": {},
     "output_type": "execute_result"
    }
   ],
   "source": [
    "teams.popitem()"
   ],
   "metadata": {
    "collapsed": false,
    "ExecuteTime": {
     "end_time": "2024-07-07T03:15:05.760298Z",
     "start_time": "2024-07-07T03:15:05.739987Z"
    }
   }
  },
  {
   "cell_type": "code",
   "execution_count": 40,
   "outputs": [],
   "source": [
    "'''\n",
    "WAP that takes the following inputs from the user for 2 students:\n",
    "- first name (\"\")\n",
    "- last name (\"\")\n",
    "- DOB (DD/MM/YYYY format)\n",
    "- percentage (0 - 100)\n",
    "- class (1 to 12)\n",
    "- roll number (unique across all classes and students)\n",
    "and saves the respective data in a data structure that allows optimum retrieval of student information based on roll numbers of student.\n",
    "'''\n",
    "\n",
    "student1_first_name = input(\"first_name\").strip() or \"Harshit\"\n",
    "student1_last_name = input(\"last_name\").strip() or \"Nagar\"\n",
    "student1_dob = input(\"DOB\").strip() or \"02/11/1996\"\n",
    "student1_percentage = input(\"percentage\").strip() or \"50\"\n",
    "student1_class = input(\"class\").strip() or \"12\"\n",
    "student1_roll = input(\"roll no\").strip() or \"1\"\n",
    "\n",
    "student1_details = {\n",
    "    \"first name\": student1_first_name,\n",
    "    \"last name\": student1_last_name,\n",
    "    \"DOB\": student1_dob,\n",
    "    \"percentage\": student1_percentage,\n",
    "    \"class\": student1_class\n",
    "}\n",
    "\n",
    "student2_first_name = input(\"first_name\").strip() or \"Kanishk\"\n",
    "student2_last_name = input(\"last_name\").strip() or \"Nagar\"\n",
    "student2_dob = input(\"DOB\").strip() or \"09/08/1999\"\n",
    "student2_percentage = input(\"percentage\").strip() or \"90\"\n",
    "student2_class = input(\"class\").strip() or \"11\"\n",
    "student2_roll = input(\"roll\").strip() or \"2\"\n",
    "\n",
    "student2_details = {\n",
    "    \"first name\": student2_first_name,\n",
    "    \"last name\": student2_last_name,\n",
    "    \"DOB\": student2_dob,\n",
    "    \"percentage\": student2_percentage,\n",
    "    \"class\": student2_class\n",
    "}\n",
    "\n",
    "# print(\"student 1 details:\\n\", student1_details, \"\\n\", \"student 2 details:\\n\", student2_details)\n",
    "\n",
    "student_details = {\n",
    "    student1_roll: student1_details,\n",
    "    student2_roll: student2_details\n",
    "}\n",
    "\n",
    "print(student_details)"
   ],
   "metadata": {
    "collapsed": false,
    "ExecuteTime": {
     "end_time": "2024-07-19T14:11:59.784400Z",
     "start_time": "2024-07-19T14:11:55.434774Z"
    }
   }
  },
  {
   "cell_type": "code",
   "execution_count": 42,
   "outputs": [
    {
     "name": "stdout",
     "output_type": "stream",
     "text": [
      "{'1': {'first name': 'Harshit', 'last name': 'Nagar', 'DOB': '02/11/1996', 'percentage': '50', 'class': '12'}, '2': {'first name': 'Kanishk', 'last name': 'Nagar', 'DOB': '09/08/1999', 'percentage': '90', 'class': '11'}}\n",
      "dict_keys(['1', '2'])\n"
     ]
    },
    {
     "data": {
      "text/plain": "'Harshit'"
     },
     "execution_count": 42,
     "metadata": {},
     "output_type": "execute_result"
    }
   ],
   "source": [
    "print(student_details)\n",
    "print(student_details.keys())\n",
    "\n",
    "student_details[\"1\"][\"first name\"]\n",
    "\n",
    "\n"
   ],
   "metadata": {
    "collapsed": false,
    "ExecuteTime": {
     "end_time": "2024-07-19T14:13:15.733102Z",
     "start_time": "2024-07-19T14:13:15.723440Z"
    }
   }
  },
  {
   "cell_type": "markdown",
   "source": [
    "# Lists\n",
    "- Lists consist of fixed-size data records that allow each element to be efficiently located based on its index\n",
    "- array elements -> [A|B|C|D]\n",
    "- positions      -> [0|1|2|3]\n",
    "- Because arrays store information in adjoining blocks of memory, they’re considered contiguous data structures\n",
    "- Analogy: Parking lot\n",
    "- In python, one implementation of arrays is lists\n",
    "- Python’s lists are implemented as dynamic arrays behind the scenes.\n",
    "- This means a list allows elements to be added or removed, and the list will automatically adjust the backing store that holds these elements by allocating or releasing memory."
   ],
   "metadata": {
    "collapsed": false
   }
  },
  {
   "cell_type": "code",
   "execution_count": 164,
   "outputs": [],
   "source": [
    "# creating a list\n",
    "import sys\n",
    "arr = [1, 2, 3, 4, 5]\n"
   ],
   "metadata": {
    "collapsed": false,
    "ExecuteTime": {
     "end_time": "2024-07-22T14:38:14.081974Z",
     "start_time": "2024-07-22T14:38:14.075079Z"
    }
   }
  },
  {
   "cell_type": "code",
   "execution_count": 165,
   "outputs": [
    {
     "data": {
      "text/plain": "1"
     },
     "execution_count": 165,
     "metadata": {},
     "output_type": "execute_result"
    }
   ],
   "source": [
    "# list elements are ordered and can be accesses by index\n",
    "arr[0]"
   ],
   "metadata": {
    "collapsed": false,
    "ExecuteTime": {
     "end_time": "2024-07-22T14:38:46.887889Z",
     "start_time": "2024-07-22T14:38:46.875605Z"
    }
   }
  },
  {
   "cell_type": "code",
   "execution_count": 166,
   "outputs": [
    {
     "data": {
      "text/plain": "5"
     },
     "execution_count": 166,
     "metadata": {},
     "output_type": "execute_result"
    }
   ],
   "source": [
    "arr[-1]"
   ],
   "metadata": {
    "collapsed": false,
    "ExecuteTime": {
     "end_time": "2024-07-22T14:39:24.867975Z",
     "start_time": "2024-07-22T14:39:24.810302Z"
    }
   }
  },
  {
   "cell_type": "code",
   "execution_count": 167,
   "outputs": [
    {
     "data": {
      "text/plain": "[1, 'hello', 3, 4, 5]"
     },
     "execution_count": 167,
     "metadata": {},
     "output_type": "execute_result"
    }
   ],
   "source": [
    "# lists are mutable\n",
    "arr[1] = \"hello\"\n",
    "arr"
   ],
   "metadata": {
    "collapsed": false,
    "ExecuteTime": {
     "end_time": "2024-07-22T14:40:18.678626Z",
     "start_time": "2024-07-22T14:40:18.634341Z"
    }
   }
  },
  {
   "cell_type": "code",
   "execution_count": 189,
   "outputs": [
    {
     "data": {
      "text/plain": "{'a': 1, 'b': 2}"
     },
     "execution_count": 189,
     "metadata": {},
     "output_type": "execute_result"
    }
   ],
   "source": [
    "# lists can contain arbitrary objects\n",
    "brr = [1,2,3]\n",
    "arr = [ brr, {\"a\":1, \"b\":2}, True, False, 3.14 ]\n",
    "arr[1]"
   ],
   "metadata": {
    "collapsed": false,
    "ExecuteTime": {
     "end_time": "2024-07-22T14:53:29.217693Z",
     "start_time": "2024-07-22T14:53:29.200378Z"
    }
   }
  },
  {
   "cell_type": "code",
   "execution_count": 173,
   "outputs": [
    {
     "data": {
      "text/plain": "[True, False]"
     },
     "execution_count": 173,
     "metadata": {},
     "output_type": "execute_result"
    }
   ],
   "source": [
    "# lists can be sliced\n",
    "# arr[x, n-1]\n",
    "arr[2:4]"
   ],
   "metadata": {
    "collapsed": false,
    "ExecuteTime": {
     "end_time": "2024-07-22T14:44:33.522595Z",
     "start_time": "2024-07-22T14:44:33.509908Z"
    }
   }
  },
  {
   "cell_type": "code",
   "execution_count": 134,
   "outputs": [
    {
     "data": {
      "text/plain": "[False, 3.14]"
     },
     "execution_count": 134,
     "metadata": {},
     "output_type": "execute_result"
    }
   ],
   "source": [
    "arr[3:]"
   ],
   "metadata": {
    "collapsed": false,
    "ExecuteTime": {
     "end_time": "2024-07-22T13:59:25.269436Z",
     "start_time": "2024-07-22T13:59:25.262537Z"
    }
   }
  },
  {
   "cell_type": "code",
   "execution_count": 175,
   "outputs": [
    {
     "name": "stdout",
     "output_type": "stream",
     "text": [
      "[[1, 2, 3], {'a': 1, 'b': 2}, True, False, 3.14]\n"
     ]
    },
    {
     "data": {
      "text/plain": "[[1, 2, 3], True, 3.14]"
     },
     "execution_count": 175,
     "metadata": {},
     "output_type": "execute_result"
    }
   ],
   "source": [
    "# you can specify a stride in the list\n",
    "print(arr)\n",
    "arr[::2]"
   ],
   "metadata": {
    "collapsed": false,
    "ExecuteTime": {
     "end_time": "2024-07-22T14:46:18.913383Z",
     "start_time": "2024-07-22T14:46:18.900532Z"
    }
   }
  },
  {
   "cell_type": "code",
   "execution_count": 136,
   "outputs": [
    {
     "data": {
      "text/plain": "3"
     },
     "execution_count": 136,
     "metadata": {},
     "output_type": "execute_result"
    }
   ],
   "source": [
    "# accessing sublists\n",
    "arr[0][2]"
   ],
   "metadata": {
    "collapsed": false,
    "ExecuteTime": {
     "end_time": "2024-07-22T13:59:35.919529Z",
     "start_time": "2024-07-22T13:59:35.912166Z"
    }
   }
  },
  {
   "cell_type": "code",
   "execution_count": 176,
   "outputs": [
    {
     "name": "stdout",
     "output_type": "stream",
     "text": [
      "[[1, 2, 3], {'a': 1, 'b': 2}, True, False, 3.14]\n"
     ]
    },
    {
     "data": {
      "text/plain": "[[1, 2, 3], {'a': 1, 'b': 2}, 'damn!', True, False, 3.14]"
     },
     "execution_count": 176,
     "metadata": {},
     "output_type": "execute_result"
    }
   ],
   "source": [
    "# insert elements in a list\n",
    "print(arr)\n",
    "arr.insert(2, \"damn!\")\n",
    "arr"
   ],
   "metadata": {
    "collapsed": false,
    "ExecuteTime": {
     "end_time": "2024-07-22T14:47:34.075978Z",
     "start_time": "2024-07-22T14:47:34.053015Z"
    }
   }
  },
  {
   "cell_type": "code",
   "execution_count": 183,
   "outputs": [
    {
     "data": {
      "text/plain": "[[1, 2, 3]]"
     },
     "execution_count": 183,
     "metadata": {},
     "output_type": "execute_result"
    }
   ],
   "source": [
    "arr.pop()\n",
    "arr"
   ],
   "metadata": {
    "collapsed": false,
    "ExecuteTime": {
     "end_time": "2024-07-22T14:50:29.724733Z",
     "start_time": "2024-07-22T14:50:29.692055Z"
    }
   }
  },
  {
   "cell_type": "code",
   "execution_count": 179,
   "outputs": [
    {
     "data": {
      "text/plain": "[[1, 2, 3], {'a': 1, 'b': 2}, 'damn!', True, 'another one']"
     },
     "execution_count": 179,
     "metadata": {},
     "output_type": "execute_result"
    }
   ],
   "source": [
    "arr.append(\"another one\")\n",
    "arr"
   ],
   "metadata": {
    "collapsed": false,
    "ExecuteTime": {
     "end_time": "2024-07-22T14:49:01.809677Z",
     "start_time": "2024-07-22T14:49:01.805833Z"
    }
   }
  },
  {
   "cell_type": "code",
   "execution_count": 186,
   "outputs": [
    {
     "name": "stdout",
     "output_type": "stream",
     "text": [
      "[1, 2, 3, 4, 5]\n"
     ]
    },
    {
     "data": {
      "text/plain": "[5, 4, 3, 2, 1]"
     },
     "execution_count": 186,
     "metadata": {},
     "output_type": "execute_result"
    }
   ],
   "source": [
    "arr = [1,2,3,4,5]\n",
    "print(arr)\n",
    "arr.reverse()\n",
    "arr"
   ],
   "metadata": {
    "collapsed": false,
    "ExecuteTime": {
     "end_time": "2024-07-22T14:51:39.259296Z",
     "start_time": "2024-07-22T14:51:39.243269Z"
    }
   }
  },
  {
   "cell_type": "code",
   "execution_count": 188,
   "outputs": [
    {
     "data": {
      "text/plain": "[5, 4, 3, 2, 1]"
     },
     "execution_count": 188,
     "metadata": {},
     "output_type": "execute_result"
    }
   ],
   "source": [
    "arr.sort(reverse=True)\n",
    "arr"
   ],
   "metadata": {
    "collapsed": false,
    "ExecuteTime": {
     "end_time": "2024-07-22T14:52:21.627350Z",
     "start_time": "2024-07-22T14:52:21.624713Z"
    }
   }
  },
  {
   "cell_type": "code",
   "execution_count": 195,
   "outputs": [
    {
     "data": {
      "text/plain": "2"
     },
     "execution_count": 195,
     "metadata": {},
     "output_type": "execute_result"
    }
   ],
   "source": [
    "arr = [1,2,3,4,5]\n",
    "del arr[2]\n",
    "arr\n",
    "arr.remove(4)\n",
    "arr\n",
    "arr.pop(1)"
   ],
   "metadata": {
    "collapsed": false,
    "ExecuteTime": {
     "end_time": "2024-07-22T14:58:33.419611Z",
     "start_time": "2024-07-22T14:58:33.401342Z"
    }
   }
  },
  {
   "cell_type": "markdown",
   "source": [
    "# Tuples\n",
    "- Identical to lists but they are immutable\n",
    "- defined using parenthesis () instead of square brackets"
   ],
   "metadata": {
    "collapsed": false
   }
  },
  {
   "cell_type": "code",
   "execution_count": 62,
   "outputs": [],
   "source": [
    "t = ('foo', 'bar', 'baz', 'qux', 'quux', 'corge')\n",
    "# every operation that can be done in lists can be done on tuple in the exact same way except for any operation that will modify the tuple"
   ],
   "metadata": {
    "collapsed": false,
    "ExecuteTime": {
     "end_time": "2024-07-07T03:44:39.257481Z",
     "start_time": "2024-07-07T03:44:39.252442Z"
    }
   }
  },
  {
   "cell_type": "code",
   "execution_count": 64,
   "outputs": [
    {
     "name": "stdout",
     "output_type": "stream",
     "text": [
      "foo bar baz qux quux corge\n"
     ]
    }
   ],
   "source": [
    "# unpacking a tuple\n",
    "(a, b, c, d, e, f) = t\n",
    "print(a, b, c, d, e, f)"
   ],
   "metadata": {
    "collapsed": false,
    "ExecuteTime": {
     "end_time": "2024-07-07T03:44:57.103216Z",
     "start_time": "2024-07-07T03:44:57.083244Z"
    }
   }
  },
  {
   "cell_type": "markdown",
   "source": [
    "# Sets in python\n",
    "Python’s built-in set type has the following characteristics:\n",
    "- Sets are unordered.\n",
    "- Set elements are unique. Duplicate elements are not allowed.\n",
    "- A set itself may be modified, but the elements contained in the set must be of an immutable type."
   ],
   "metadata": {
    "collapsed": false
   }
  },
  {
   "cell_type": "code",
   "execution_count": 67,
   "outputs": [
    {
     "data": {
      "text/plain": "{(1, 2, 3), 3.14159, 42, 'foo'}"
     },
     "execution_count": 67,
     "metadata": {},
     "output_type": "execute_result"
    }
   ],
   "source": [
    "# Creating a set\n",
    "x = {42, 'foo', (1, 2, 3), 3.14159, 42, 'foo'}\n",
    "x\n",
    "# order is not preserved\n",
    "# elements repeated are included only once"
   ],
   "metadata": {
    "collapsed": false,
    "ExecuteTime": {
     "end_time": "2024-07-07T03:51:45.408035Z",
     "start_time": "2024-07-07T03:51:45.397025Z"
    }
   }
  },
  {
   "cell_type": "code",
   "execution_count": 70,
   "outputs": [
    {
     "ename": "TypeError",
     "evalue": "unhashable type: 'list'",
     "output_type": "error",
     "traceback": [
      "\u001B[0;31m---------------------------------------------------------------------------\u001B[0m",
      "\u001B[0;31mTypeError\u001B[0m                                 Traceback (most recent call last)",
      "Cell \u001B[0;32mIn[70], line 4\u001B[0m\n\u001B[1;32m      1\u001B[0m \u001B[38;5;66;03m# set can only be created using immutable objects\u001B[39;00m\n\u001B[1;32m      2\u001B[0m \u001B[38;5;66;03m# since lists and dicts are mutable, sets can not include them\u001B[39;00m\n\u001B[1;32m      3\u001B[0m mylist \u001B[38;5;241m=\u001B[39m [\u001B[38;5;241m1\u001B[39m, \u001B[38;5;241m2\u001B[39m, \u001B[38;5;241m3\u001B[39m]\n\u001B[0;32m----> 4\u001B[0m y \u001B[38;5;241m=\u001B[39m {mylist}\n",
      "\u001B[0;31mTypeError\u001B[0m: unhashable type: 'list'"
     ]
    }
   ],
   "source": [
    "# set can only be created using immutable objects\n",
    "# since lists and dicts are mutable, sets can not include them\n",
    "mylist = [1, 2, 3]\n",
    "y = {mylist}"
   ],
   "metadata": {
    "collapsed": false,
    "ExecuteTime": {
     "end_time": "2024-07-07T03:55:28.835314Z",
     "start_time": "2024-07-07T03:55:28.830806Z"
    }
   }
  },
  {
   "cell_type": "code",
   "execution_count": 71,
   "outputs": [
    {
     "data": {
      "text/plain": "4"
     },
     "execution_count": 71,
     "metadata": {},
     "output_type": "execute_result"
    }
   ],
   "source": [
    "# length of a set\n",
    "len(x)"
   ],
   "metadata": {
    "collapsed": false,
    "ExecuteTime": {
     "end_time": "2024-07-07T03:56:01.362254Z",
     "start_time": "2024-07-07T03:56:01.355317Z"
    }
   }
  },
  {
   "cell_type": "code",
   "execution_count": 77,
   "outputs": [
    {
     "data": {
      "text/plain": "{'bar', 'foo'}"
     },
     "execution_count": 77,
     "metadata": {},
     "output_type": "execute_result"
    }
   ],
   "source": [
    "# operations on a set can be performed using methods and operators\n",
    "x1 = {'foo', 'bar', 'baz'}\n",
    "x2 = {'baz', 'qux', 'quux'}"
   ],
   "metadata": {
    "collapsed": false,
    "ExecuteTime": {
     "end_time": "2024-07-07T03:59:47.615881Z",
     "start_time": "2024-07-07T03:59:47.603484Z"
    }
   }
  },
  {
   "cell_type": "code",
   "execution_count": null,
   "outputs": [],
   "source": [
    "# union\n",
    "x1|x2\n",
    "x1.union(x2)"
   ],
   "metadata": {
    "collapsed": false
   }
  },
  {
   "cell_type": "code",
   "execution_count": null,
   "outputs": [],
   "source": [
    "# intersection\n",
    "x1 & x2\n",
    "x1.intersection(x2)"
   ],
   "metadata": {
    "collapsed": false
   }
  },
  {
   "cell_type": "code",
   "execution_count": null,
   "outputs": [],
   "source": [
    "# difference\n",
    "x1-x2\n",
    "x1.difference(x2)"
   ],
   "metadata": {
    "collapsed": false
   }
  },
  {
   "cell_type": "code",
   "execution_count": 81,
   "outputs": [
    {
     "data": {
      "text/plain": "{(1, 2, 3), 3.14159, 42, 5, 'foo'}"
     },
     "execution_count": 81,
     "metadata": {},
     "output_type": "execute_result"
    }
   ],
   "source": [
    "# modifying sets\n",
    "x.add(5)\n",
    "x"
   ],
   "metadata": {
    "collapsed": false,
    "ExecuteTime": {
     "end_time": "2024-07-07T04:04:00.574029Z",
     "start_time": "2024-07-07T04:04:00.562863Z"
    }
   }
  },
  {
   "cell_type": "code",
   "execution_count": 82,
   "outputs": [
    {
     "data": {
      "text/plain": "{(1, 2, 3), 3.14159, 42, 'foo'}"
     },
     "execution_count": 82,
     "metadata": {},
     "output_type": "execute_result"
    }
   ],
   "source": [
    "x.remove(5)\n",
    "x"
   ],
   "metadata": {
    "collapsed": false,
    "ExecuteTime": {
     "end_time": "2024-07-07T04:04:01.762802Z",
     "start_time": "2024-07-07T04:04:01.755350Z"
    }
   }
  },
  {
   "cell_type": "markdown",
   "source": [],
   "metadata": {
    "collapsed": false
   }
  },
  {
   "cell_type": "markdown",
   "source": [
    "\n",
    "# When to use which data structure ?\n",
    "\n",
    "A list keeps order, dict and set don't: when you care about order, therefore, you must use list.\n",
    "\n",
    "dict associates each key with a value, while list and set just contain values: very different use cases, obviously.\n",
    "\n",
    "set requires items to be hashable, list doesn't: if you have non-hashable items, therefore, you cannot use set and must instead use list.\n",
    "\n",
    "set forbids duplicates, list does not: also a crucial distinction"
   ],
   "metadata": {
    "collapsed": false
   }
  }
 ],
 "metadata": {
  "kernelspec": {
   "display_name": "Python 3",
   "language": "python",
   "name": "python3"
  },
  "language_info": {
   "codemirror_mode": {
    "name": "ipython",
    "version": 2
   },
   "file_extension": ".py",
   "mimetype": "text/x-python",
   "name": "python",
   "nbconvert_exporter": "python",
   "pygments_lexer": "ipython2",
   "version": "2.7.6"
  }
 },
 "nbformat": 4,
 "nbformat_minor": 0
}
