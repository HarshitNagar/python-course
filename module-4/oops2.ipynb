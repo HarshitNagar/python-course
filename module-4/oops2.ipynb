{
 "cells": [
  {
   "cell_type": "code",
   "execution_count": null,
   "metadata": {
    "collapsed": false,
    "jupyter": {
     "outputs_hidden": false
    }
   },
   "outputs": [],
   "source": [
    "class Rectangle:\n",
    "  def __init__(self, width, length):\n",
    "      self.width = width\n",
    "      self.length = length\n",
    "\n",
    "  def area(self):\n",
    "      area = self.length * self.width\n",
    "      return area\n",
    "\n",
    "  def perimeter(self):\n",
    "      peri = 2 * (self.width + self.length)\n",
    "      return peri\n",
    "\n",
    "class Square(Rectangle):\n",
    "  def __init__(self, size):\n",
    "    super().__init__(size, size)\n",
    "\n",
    "\n",
    "sample_square = Square(4)\n",
    "# Square(4).area()\n",
    "sample_square.perimeter()\n",
    "\n",
    "\n",
    "\n",
    "\n",
    "sample_square = Square(4)\n",
    "sample_square.area()\n",
    "# print(sample_square)\n",
    "\n",
    "\n",
    "# class Rectangle:\n",
    "#   def __init__(self, length, width):\n",
    "#     self.length = length\n",
    "#     self.width = width\n",
    "#\n",
    "#   def area(self):\n",
    "#     return self.length * self.width\n",
    "#\n",
    "#\n",
    "# class Square(Rectangle):\n",
    "#   def __init__(self, length):\n",
    "#     super().__init__(length, length)\n",
    "#\n",
    "#   # def area(self):\n",
    "#   #   return self.length * self.length\n",
    "#\n",
    "# class Cube(Square):\n",
    "#   def surface_area(self):\n",
    "#     face_area = super().area()\n",
    "#     return face_area*6\n",
    "\n",
    "\n",
    "\n",
    "# How are we going to depict the relationship that square is a special case of rectangle ?"
   ]
  },
  {
   "cell_type": "code",
   "execution_count": null,
   "metadata": {
    "collapsed": false,
    "jupyter": {
     "outputs_hidden": false
    }
   },
   "outputs": [],
   "source": [
    "rect = Rectangle(2, 3)\n",
    "rect.area()\n",
    "\n",
    "sq = Square(5)\n",
    "sq.area()"
   ]
  },
  {
   "cell_type": "code",
   "execution_count": null,
   "metadata": {
    "collapsed": false,
    "jupyter": {
     "outputs_hidden": false
    }
   },
   "outputs": [],
   "source": [
    "# illustrate different aspects of classes in Python:\n",
    "\n",
    "### 1. **Encapsulation**\n",
    "# Encapsulation is a principle of object-oriented programming that restricts access to certain parts of an object. This is typically done by making attributes or methods private, which is signified by a leading underscore (`_`) or double underscore (`__`).\n",
    "\n",
    "# **Example:**\n",
    "\n",
    "class BankAccount:\n",
    "    def __init__(self, owner, balance=0):\n",
    "        self.owner = owner\n",
    "        self.__balance = balance # Private attribute\n",
    "        self._status = 'live' # Protected attribute\n",
    "\n",
    "    def deposit(self, amount):\n",
    "        if amount > 0:\n",
    "            self.__balance += amount\n",
    "\n",
    "    def withdraw(self, amount):\n",
    "        if amount > 0 and amount <= self.__balance:\n",
    "            self.__balance -= amount\n",
    "\n",
    "    def get_balance(self):\n",
    "        return self.__balance  # Accessing the private attribute via a public method\n",
    "\n",
    "\n",
    "# Create an instance of BankAccount\n",
    "account = BankAccount(\"Alice\", 100)\n",
    "\n",
    "account.deposit(50)\n",
    "account.withdraw(30)\n",
    "\n",
    "# print(account.get_balance())\n",
    "\n",
    "# Trying to access the private attribute directly will raise an AttributeError\n",
    "# print(account.__balance)  # This will raise an error\n",
    "\n",
    "\n",
    "class Status(BankAccount):\n",
    "  def __init__(self):\n",
    "    super().__init__(self, \"Anny\")\n",
    "    print(self._status)\n",
    "    print(self.__balance)\n",
    "\n",
    "obj = Status()\n",
    "#\n",
    "class Hello(Status):\n",
    "  def __init__(self):\n",
    "      print(self._status)\n",
    "#\n",
    "obj2 = Hello()\n",
    "\n"
   ]
  },
  {
   "cell_type": "code",
   "execution_count": null,
   "metadata": {
    "collapsed": false,
    "jupyter": {
     "outputs_hidden": false
    }
   },
   "outputs": [],
   "source": [
    "\n",
    "\n",
    "### 2. **Polymorphism**\n",
    "# Polymorphism allows objects of different classes to be treated as objects of a common superclass. This is particularly useful when dealing with a group of objects that share a common interface.\n",
    "\n",
    "# **Example:**\n",
    "\n",
    "class Dog:\n",
    "    def speak(self):\n",
    "        return \"Woof!\"\n",
    "\n",
    "class Cat:\n",
    "    def speak(self):\n",
    "        return \"Meow!\"\n",
    "\n",
    "def make_animal_speak(animal):\n",
    "    print(animal.speak())\n",
    "\n",
    "# Create instances of Dog and Cat\n",
    "dog = Dog()\n",
    "cat = Cat()\n",
    "\n",
    "make_animal_speak(dog)  # Output: Woof!\n",
    "make_animal_speak(cat)  # Output: Meow!\n"
   ]
  },
  {
   "cell_type": "code",
   "execution_count": null,
   "metadata": {
    "collapsed": false,
    "jupyter": {
     "outputs_hidden": false
    }
   },
   "outputs": [],
   "source": [
    "### 7. **Composition**\n",
    "# Composition is a design principle where one class is composed of one or more objects of other classes, creating a has-a relationship rather than an is-a relationship.\n",
    "\n",
    "# **Example:**\n",
    "\n",
    "class Engine:\n",
    "    def start(self):\n",
    "        return \"Engine started.\"\n",
    "\n",
    "class Wheels:\n",
    "    def roll(self):\n",
    "        return \"Wheels rolling.\"\n",
    "\n",
    "class Car:\n",
    "    def __init__(self):\n",
    "        self.engine = Engine()\n",
    "        self.wheels = Wheels()\n",
    "\n",
    "    def drive(self):\n",
    "        print(self.engine.start())\n",
    "        print(self.wheels.roll())\n",
    "\n",
    "\n",
    "\n",
    "# Create an instance of Car\n",
    "my_car = Car()\n",
    "\n",
    "my_car.drive()\n",
    "# Output:\n",
    "# Engine started.\n",
    "# Wheels rolling."
   ]
  }
 ],
 "metadata": {
  "kernelspec": {
   "display_name": "Python 3 (ipykernel)",
   "language": "python",
   "name": "python3"
  },
  "language_info": {
   "codemirror_mode": {
    "name": "ipython",
    "version": 3
   },
   "file_extension": ".py",
   "mimetype": "text/x-python",
   "name": "python",
   "nbconvert_exporter": "python",
   "pygments_lexer": "ipython3",
   "version": "3.11.9"
  }
 },
 "nbformat": 4,
 "nbformat_minor": 4
}
