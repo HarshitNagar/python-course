{
 "cells": [
  {
   "cell_type": "code",
   "execution_count": null,
   "metadata": {
    "collapsed": false,
    "jupyter": {
     "outputs_hidden": false
    }
   },
   "outputs": [],
   "source": [
    "# What is OOP ?\n",
    "- OOP: Object Oriented Programming\n",
    "- It is a programming paradigm in which the code is structured by packing related properties and behaviours into objects.\n",
    "  - For eg: Lets say you want to track employees in an organisation.\n",
    "    - Properties: Name, age, gender, ID, address, contact etc.\n",
    "    - Behaviours: What would you want to do with an employee ?\n",
    "        - Assign department\n",
    "        - get details of the employee\n",
    "        - calculate employee salary\n",
    "  - Using lists ?\n",
    "    - ```\n",
    "      aman = ['aman', 30, 'M', 123]\n",
    "      neha = ['neha', 34, 'F', 134]\n",
    "      employees = [aman, neha]\n",
    "      ```\n",
    "  - Using dict ?\n",
    "    - ```\n",
    "      aman = { 'name': 'aman', 'age': 30, 'gender': 'M', 'id': '123']\n",
    "      neha = { 'name': 'neha', 'age': 34, 'gender': 'F', 'id': '134']\n",
    "      employees = [aman, neha]\n",
    "      ```\n",
    "  - Using OOP ?"
   ]
  },
  {
   "cell_type": "code",
   "execution_count": 34,
   "metadata": {
    "ExecuteTime": {
     "end_time": "2024-08-02T15:11:10.680229Z",
     "start_time": "2024-08-02T15:11:10.676749Z"
    },
    "collapsed": false,
    "jupyter": {
     "outputs_hidden": false
    }
   },
   "outputs": [
    {
     "name": "stdout",
     "output_type": "stream",
     "text": [
      "Aman M 10000 25 134\n",
      "Aman, M, 25\n"
     ]
    },
    {
     "data": {
      "text/plain": [
       "Employee, name=Aman, gender=M, ident=134, age=25, salary=10000"
      ]
     },
     "execution_count": 34,
     "metadata": {},
     "output_type": "execute_result"
    }
   ],
   "source": [
    "class Employee:\n",
    "  def __init__(self, name=None, gender=None, age=25, ident=None):\n",
    "    self.name = name\n",
    "    self.gender = gender\n",
    "    self.ident = ident\n",
    "    self.age = age\n",
    "    self.salary = 0\n",
    "  #\n",
    "  def __str__(self):\n",
    "    return f\"{self.name}, {self.gender}, {self.age}\"\n",
    "\n",
    "  def __repr__(self):\n",
    "    return (\n",
    "      f\"{type(self).__name__}, \"\n",
    "      f\"name={self.name}, \"\n",
    "      f\"gender={self.gender}, \"\n",
    "      f\"ident={self.ident}, \"\n",
    "      f\"age={self.age}, \"\n",
    "      f\"salary={self.salary}\"\n",
    "    )\n",
    "\n",
    "  def set_salary(self):\n",
    "    self.salary = 10000\n",
    "#\n",
    "  def get_emp_details(self):\n",
    "    print(self.name, self.gender, self.salary, self.age, self.ident)\n",
    "#\n",
    "emp1 = Employee(name = 'Aman', gender = 'M', ident = 134)\n",
    "# emp2 = Employee('Neha', 'F', 34, '123')\n",
    "emp1.set_salary()\n",
    "# print(emp1.name, emp1.age, emp1.salary)\n",
    "emp1.get_emp_details()\n",
    "\n",
    "print(emp1)\n",
    "emp1"
   ]
  },
  {
   "cell_type": "markdown",
   "metadata": {
    "collapsed": false,
    "jupyter": {
     "outputs_hidden": false
    }
   },
   "source": [
    "# __str__ and __repr__ methods\n",
    "- The methods that begin and end with double underscores are called dunder methods or magic methods\n",
    "- They are a fundamental part of python's internal class mechanism. Python calls them automatically in response to specific operations\n",
    "- eg: __init__ is the most commonly known dunder method. This method is an instance initializer. This gets called automatically when a class constructor is called.\n",
    "- __str__ provides informal string representations of for objects.\n",
    "  - This method must return a string that represents the object in a user-friendly manner.\n",
    "  - You can access an object’s informal string representation using either str() or print().\n",
    "- __repr__ provides formal string representations of for objects.\n",
    "  - it must return a string that allows you to re-create the object if possible.\n",
    "  - This string representation is mostly targeted at Python programmers"
   ]
  },
  {
   "cell_type": "markdown",
   "metadata": {
    "collapsed": false,
    "jupyter": {
     "outputs_hidden": false
    }
   },
   "source": [
    "# Inheritance\n",
    "- It is the process by which once class takes on the attributes and methods of another class.\n",
    "- The class that inherits the attributes and methods is called the child class/derived class/sub class.\n",
    "- The class whose attributes and methods are inherited is called parent class/base class/super class.\n",
    "- Child class can overwrite or extend attributes and methods of parent class."
   ]
  },
  {
   "cell_type": "markdown",
   "metadata": {
    "collapsed": false,
    "jupyter": {
     "outputs_hidden": false
    }
   },
   "source": [
    "# single inheritance"
   ]
  },
  {
   "cell_type": "code",
   "execution_count": 36,
   "metadata": {
    "ExecuteTime": {
     "end_time": "2024-08-02T15:17:15.572960Z",
     "start_time": "2024-08-02T15:17:15.569917Z"
    },
    "collapsed": false,
    "jupyter": {
     "outputs_hidden": false
    }
   },
   "outputs": [
    {
     "name": "stdout",
     "output_type": "stream",
     "text": [
      "This is parent class\n",
      "This is child class\n"
     ]
    }
   ],
   "source": [
    "class Parent:\n",
    "  def func1(self):\n",
    "    print(\"This is parent class\")\n",
    "\n",
    "class Child(Parent):\n",
    "  def func2(self):\n",
    "    print(\"This is child class\")\n",
    "\n",
    "object = Child()\n",
    "object.func1()\n",
    "object.func2()"
   ]
  },
  {
   "cell_type": "markdown",
   "metadata": {
    "collapsed": false,
    "jupyter": {
     "outputs_hidden": false
    }
   },
   "source": [
    "Multiple inheritance"
   ]
  },
  {
   "cell_type": "code",
   "execution_count": 37,
   "metadata": {
    "ExecuteTime": {
     "end_time": "2024-08-02T15:22:20.243423Z",
     "start_time": "2024-08-02T15:22:20.236393Z"
    },
    "collapsed": false,
    "jupyter": {
     "outputs_hidden": false
    }
   },
   "outputs": [
    {
     "name": "stdout",
     "output_type": "stream",
     "text": [
      "Father : a\n",
      "Mother : b\n"
     ]
    }
   ],
   "source": [
    "class Mother:\n",
    "    mothername = \"\"\n",
    "\n",
    "    def mother(self):\n",
    "        print(self.mothername)\n",
    "\n",
    "class Father:\n",
    "    fathername = \"\"\n",
    "    def father(self):\n",
    "        print(self.fathername)\n",
    "\n",
    "# Derived class\n",
    "\n",
    "class Son(Mother, Father):\n",
    "    def parents(self):\n",
    "        print(\"Father :\", self.fathername)\n",
    "        print(\"Mother :\", self.mothername)\n",
    "\n",
    "\n",
    "s1 = Son()\n",
    "s1.fathername = \"a\"\n",
    "s1.mothername = \"b\"\n",
    "s1.parents()"
   ]
  },
  {
   "cell_type": "markdown",
   "metadata": {
    "collapsed": false,
    "jupyter": {
     "outputs_hidden": false
    }
   },
   "source": [
    "Multilevel inheritance"
   ]
  },
  {
   "cell_type": "code",
   "execution_count": 39,
   "metadata": {
    "ExecuteTime": {
     "end_time": "2024-08-04T20:05:18.753713Z",
     "start_time": "2024-08-04T20:05:18.746527Z"
    },
    "collapsed": false,
    "jupyter": {
     "outputs_hidden": false
    }
   },
   "outputs": [
    {
     "name": "stdout",
     "output_type": "stream",
     "text": [
      "Pal\n",
      "Ram\n",
      "Grandfather name : Pal\n",
      "Father name : Ram\n",
      "Son name : Sham\n"
     ]
    }
   ],
   "source": [
    "class Grandfather:\n",
    "\n",
    "    def __init__(self, grandfathername):\n",
    "        self.grandfathername = grandfathername\n",
    "\n",
    "\n",
    "# Intermediate class\n",
    "\n",
    "\n",
    "class Father(Grandfather):\n",
    "    def __init__(self, fathername, grandfathername):\n",
    "        self.fathername = fathername\n",
    "\n",
    "        # invoking constructor of Grandfather class\n",
    "        # Grandfather.__init__(self, grandfathername)\n",
    "\n",
    "# Derived class\n",
    "\n",
    "\n",
    "class Son(Father):\n",
    "    def __init__(self, sonname, fathername, grandfathername):\n",
    "        self.sonname = sonname\n",
    "        self.fathername = fathername\n",
    "        self.grandfathername = grandfathername\n",
    "\n",
    "        # invoking constructor of Father class\n",
    "        # Father.__init__(self, fathername, grandfathername)\n",
    "\n",
    "    def print_name(self):\n",
    "        print('Grandfather name :', self.grandfathername)\n",
    "        print(\"Father name :\", self.fathername)\n",
    "        print(\"Son name :\", self.sonname)\n",
    "\n",
    "\n",
    "#  Driver code\n",
    "s1 = Son('Sham', 'Ram', 'Pal')\n",
    "print(s1.grandfathername)\n",
    "print(s1.fathername)\n",
    "print(s1.sonname)\n",
    "s1.print_name()"
   ]
  },
  {
   "cell_type": "markdown",
   "metadata": {
    "collapsed": false,
    "jupyter": {
     "outputs_hidden": false
    }
   },
   "source": [
    "# Hierarchical inheritance"
   ]
  },
  {
   "cell_type": "code",
   "execution_count": 16,
   "metadata": {
    "ExecuteTime": {
     "end_time": "2024-08-02T14:10:09.729209Z",
     "start_time": "2024-08-02T14:10:09.689464Z"
    },
    "collapsed": false,
    "jupyter": {
     "outputs_hidden": false
    }
   },
   "outputs": [
    {
     "name": "stdout",
     "output_type": "stream",
     "text": [
      "This function is in parent class.\n",
      "This function is in child 1.\n",
      "This function is in parent class.\n",
      "This function is in child 2.\n"
     ]
    }
   ],
   "source": [
    "class Parent:\n",
    "    def func1(self):\n",
    "        print(\"This function is in parent class.\")\n",
    "\n",
    "# Derived class1\n",
    "\n",
    "\n",
    "class Child1(Parent):\n",
    "    def func2(self):\n",
    "        print(\"This function is in child 1.\")\n",
    "\n",
    "# Derivied class2\n",
    "\n",
    "\n",
    "class Child2(Parent):\n",
    "    def func3(self):\n",
    "        print(\"This function is in child 2.\")\n",
    "\n",
    "\n",
    "# Driver's code\n",
    "object1 = Child1()\n",
    "object2 = Child2()\n",
    "object1.func1()\n",
    "object1.func2()\n",
    "object2.func1()\n",
    "object2.func3()"
   ]
  },
  {
   "cell_type": "code",
   "execution_count": 42,
   "metadata": {
    "ExecuteTime": {
     "end_time": "2024-08-04T20:20:57.829810Z",
     "start_time": "2024-08-04T20:20:57.827585Z"
    },
    "collapsed": false,
    "jupyter": {
     "outputs_hidden": false
    }
   },
   "outputs": [
    {
     "name": "stdout",
     "output_type": "stream",
     "text": [
      "Class A\n",
      "Class B\n",
      "printout\n"
     ]
    }
   ],
   "source": [
    "class A:\n",
    "    def __init__(self):\n",
    "        print(\"Class A\")\n",
    "    def printout(self):\n",
    "        print(\"printout\")\n",
    "\n",
    "class B(A):\n",
    "    def __init__(self):\n",
    "        print(\"Class B\")\n",
    "\n",
    "def main():\n",
    "    myA = A()\n",
    "    myB = B()\n",
    "    myB.printout()\n",
    "\n",
    "if __name__ == '__main__':\n",
    "    main()"
   ]
  },
  {
   "cell_type": "code",
   "execution_count": 46,
   "metadata": {
    "ExecuteTime": {
     "end_time": "2024-08-05T13:50:57.326740Z",
     "start_time": "2024-08-05T13:50:57.313346Z"
    },
    "collapsed": false,
    "jupyter": {
     "outputs_hidden": false
    }
   },
   "outputs": [],
   "source": []
  }
 ],
 "metadata": {
  "kernelspec": {
   "display_name": "Python 3 (ipykernel)",
   "language": "python",
   "name": "python3"
  },
  "language_info": {
   "codemirror_mode": {
    "name": "ipython",
    "version": 3
   },
   "file_extension": ".py",
   "mimetype": "text/x-python",
   "name": "python",
   "nbconvert_exporter": "python",
   "pygments_lexer": "ipython3",
   "version": "3.11.9"
  }
 },
 "nbformat": 4,
 "nbformat_minor": 4
}
